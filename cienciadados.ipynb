{
  "nbformat": 4,
  "nbformat_minor": 0,
  "metadata": {
    "colab": {
      "name": "cienciadados.ipynb",
      "provenance": [],
      "collapsed_sections": [],
      "toc_visible": true,
      "mount_file_id": "1oumNVUhT3lRZN--VTvaxm0QTD0NQYbh3",
      "authorship_tag": "ABX9TyPbyA3SNNwcamVmPIACQZRS",
      "include_colab_link": true
    },
    "kernelspec": {
      "name": "python3",
      "display_name": "Python 3"
    }
  },
  "cells": [
    {
      "cell_type": "markdown",
      "metadata": {
        "id": "view-in-github",
        "colab_type": "text"
      },
      "source": [
        "<a href=\"https://colab.research.google.com/github/lauraemmanuella/TCCPUCMinas/blob/main/cienciadados.ipynb\" target=\"_parent\"><img src=\"https://colab.research.google.com/assets/colab-badge.svg\" alt=\"Open In Colab\"/></a>"
      ]
    },
    {
      "cell_type": "markdown",
      "metadata": {
        "id": "MKmPmXIbUyvC"
      },
      "source": [
        "# Trabalho de conclusão de curso\n",
        "\n",
        "\n",
        "\n",
        "---\n",
        "\n",
        "\n",
        "\n",
        "PONTIFÍCIA UNIVERSIDADE CATÓLICA DE MINAS GERAIS\n",
        "\n",
        "NÚCLEO DE EDUCAÇÃO À DISTÂNCIA \n",
        "\n",
        "Pós-graduação *Lato Sensu* em Ciência de Dados e Big Data\n",
        "\n",
        "\n",
        "\n",
        "---\n",
        "\n",
        "\n",
        "\n",
        "**Laura Emmanuella Alves dos Santos Santana**\n",
        "\n",
        "> **PREDIÇÃO DE GÊNERO PARA RECOMENDAÇÃO DE LIVROS: UM ESTUDO DE CASO A PARTIR DA PLATAFORMA SKOOB**\n",
        "\n",
        "\n",
        "\n",
        "\n",
        "---\n",
        "\n",
        "\n",
        "Belo Horizonte, 2021"
      ]
    },
    {
      "cell_type": "markdown",
      "metadata": {
        "id": "fVEh8UqgXtGp"
      },
      "source": [
        "# Bibliotecas necessárias"
      ]
    },
    {
      "cell_type": "code",
      "metadata": {
        "id": "SBNGkjgVgvjB"
      },
      "source": [
        "import pandas as pd\n",
        "import numpy as np\n",
        "\n",
        "import re\n",
        "from bs4 import BeautifulSoup\n",
        "import requests as rq\n",
        "\n",
        "from sklearn.preprocessing import LabelEncoder\n",
        "from imblearn.under_sampling import NearMiss \n",
        "from collections import Counter\n",
        "\n",
        "import matplotlib.pyplot as plt\n",
        "import seaborn as sns\n",
        "\n",
        "from sklearn.model_selection import train_test_split\n",
        "from sklearn.model_selection import GridSearchCV\n",
        "from sklearn.neighbors import KNeighborsClassifier\n",
        "from sklearn.naive_bayes import GaussianNB\n",
        "from sklearn.svm import SVC\n",
        "from sklearn import metrics\n",
        "\n",
        "from scipy import stats"
      ],
      "execution_count": null,
      "outputs": []
    },
    {
      "cell_type": "markdown",
      "metadata": {
        "id": "2SShMD0tizKz"
      },
      "source": [
        "# 1 - Análise e processamento da base Livros Skoob disponível no Kaggle\n",
        "\n",
        "https://www.kaggle.com/victorstein/livros-skoob"
      ]
    },
    {
      "cell_type": "code",
      "metadata": {
        "id": "x4mu7W3GkXO4"
      },
      "source": [
        "#Carrega a base adquirida no Kaggle\n",
        "df = pd.read_csv('./dados.csv')"
      ],
      "execution_count": null,
      "outputs": []
    },
    {
      "cell_type": "code",
      "metadata": {
        "colab": {
          "base_uri": "https://localhost:8080/"
        },
        "id": "XX0aFuLakfgL",
        "outputId": "0756c1d6-ceb9-474d-db44-0dce386ecb16"
      },
      "source": [
        "# mostra quantidade de amostras\n",
        "# mostra quantidade de colunas\n",
        "# mostra os nomes das colunas\n",
        "print('*************************************************************************')\n",
        "print(f'Número de amostras: {df.shape[0]}')\n",
        "print(f'Número de Colunas: {df.shape[1]}')\n",
        "print(f'Nomes das Colunas: {df.columns.values}')\n",
        "print('*************************************************************************')"
      ],
      "execution_count": null,
      "outputs": [
        {
          "output_type": "stream",
          "text": [
            "*************************************************************************\n",
            "Número de amostras: 11975\n",
            "Número de Colunas: 20\n",
            "Nomes das Colunas: ['titulo' 'autor' 'ISBN_13' 'ISBN_10' 'ano' 'paginas' 'idioma' 'editora'\n",
            " 'rating' 'avaliacao' 'resenha' 'abandonos' 'relendo' 'querem_ler' 'lendo'\n",
            " 'leram' 'descricao' 'genero' 'male' 'female']\n",
            "*************************************************************************\n"
          ],
          "name": "stdout"
        }
      ]
    },
    {
      "cell_type": "code",
      "metadata": {
        "colab": {
          "base_uri": "https://localhost:8080/"
        },
        "id": "7yIK6MviraeY",
        "outputId": "e60677f0-262b-4758-8064-3f0dd839619f"
      },
      "source": [
        "#mostra tipo de dados das colunas\n",
        "df.info()"
      ],
      "execution_count": null,
      "outputs": [
        {
          "output_type": "stream",
          "text": [
            "<class 'pandas.core.frame.DataFrame'>\n",
            "RangeIndex: 11975 entries, 0 to 11974\n",
            "Data columns (total 20 columns):\n",
            " #   Column      Non-Null Count  Dtype  \n",
            "---  ------      --------------  -----  \n",
            " 0   titulo      11975 non-null  object \n",
            " 1   autor       11971 non-null  object \n",
            " 2   ISBN_13     11216 non-null  float64\n",
            " 3   ISBN_10     11216 non-null  object \n",
            " 4   ano         11975 non-null  int64  \n",
            " 5   paginas     11975 non-null  int64  \n",
            " 6   idioma      11973 non-null  object \n",
            " 7   editora     11974 non-null  object \n",
            " 8   rating      11975 non-null  float64\n",
            " 9   avaliacao   11975 non-null  int64  \n",
            " 10  resenha     11975 non-null  int64  \n",
            " 11  abandonos   11975 non-null  int64  \n",
            " 12  relendo     11975 non-null  int64  \n",
            " 13  querem_ler  11975 non-null  int64  \n",
            " 14  lendo       11975 non-null  int64  \n",
            " 15  leram       11975 non-null  int64  \n",
            " 16  descricao   11318 non-null  object \n",
            " 17  genero      11386 non-null  object \n",
            " 18  male        11975 non-null  int64  \n",
            " 19  female      11975 non-null  int64  \n",
            "dtypes: float64(2), int64(11), object(7)\n",
            "memory usage: 1.8+ MB\n"
          ],
          "name": "stdout"
        }
      ]
    },
    {
      "cell_type": "code",
      "metadata": {
        "colab": {
          "base_uri": "https://localhost:8080/"
        },
        "id": "kRz1wIAtla2c",
        "outputId": "61251539-0df8-4a70-ba03-d9d54dd84384"
      },
      "source": [
        "#verifica quantas amostras possuem valor NaN por coluna\n",
        "df.isna().sum() "
      ],
      "execution_count": null,
      "outputs": [
        {
          "output_type": "execute_result",
          "data": {
            "text/plain": [
              "titulo          0\n",
              "autor           4\n",
              "ISBN_13       759\n",
              "ISBN_10       759\n",
              "ano             0\n",
              "paginas         0\n",
              "idioma          2\n",
              "editora         1\n",
              "rating          0\n",
              "avaliacao       0\n",
              "resenha         0\n",
              "abandonos       0\n",
              "relendo         0\n",
              "querem_ler      0\n",
              "lendo           0\n",
              "leram           0\n",
              "descricao     657\n",
              "genero        589\n",
              "male            0\n",
              "female          0\n",
              "dtype: int64"
            ]
          },
          "metadata": {
            "tags": []
          },
          "execution_count": 5
        }
      ]
    },
    {
      "cell_type": "code",
      "metadata": {
        "colab": {
          "base_uri": "https://localhost:8080/"
        },
        "id": "-jC99-nHL-_F",
        "outputId": "86bf56b0-df03-4919-d283-f6e96d47699f"
      },
      "source": [
        "#Coluna gênero, indica os gêneros literários do livro\n",
        "df['genero']"
      ],
      "execution_count": null,
      "outputs": [
        {
          "output_type": "execute_result",
          "data": {
            "text/plain": [
              "0        Economia, Finanças / Literatura Brasileira / N...\n",
              "1        Drama / Ficção / Literatura Estrangeira / Susp...\n",
              "2        Ficção / Ficção científica / Literatura Estran...\n",
              "3        Biografia, Autobiografia, Memórias / História ...\n",
              "4        Ficção / HQ, comics, mangá / Literatura Estran...\n",
              "                               ...                        \n",
              "11970            Literatura Estrangeira / Poemas, poesias \n",
              "11971                      Ficção / Literatura Brasileira \n",
              "11972    Aventura / Cinema / Crime / Crônicas / Drama /...\n",
              "11973            Literatura Estrangeira / Poemas, poesias \n",
              "11974                          Religião e Espiritualidade \n",
              "Name: genero, Length: 11975, dtype: object"
            ]
          },
          "metadata": {
            "tags": []
          },
          "execution_count": 4
        }
      ]
    },
    {
      "cell_type": "code",
      "metadata": {
        "id": "mOasLF9BlgPY"
      },
      "source": [
        "#remove as linhas onde na coluna genero tem NaN\n",
        "df.dropna(subset=['genero'], inplace=True)\n",
        "#Explicação: a coluna gênero possui uma string com os nomes dos gêneros literários do livro (ex: ficção, infantojuvenil, etc.)\n",
        "#Essa coluna será usada para preencher as novas colunas com os gêneros literários separadamente\n",
        "#sendo assim, as amostras sem essa informação não interessam"
      ],
      "execution_count": null,
      "outputs": []
    },
    {
      "cell_type": "code",
      "metadata": {
        "id": "2gHMzG1immF6"
      },
      "source": [
        "#remove as linhas onde o titulo é duplicado, mantendo a primeira ocorrência\n",
        "#apesar de serem edições diferentes, mas os demais dados são praticamente os mesmos\n",
        "df.drop_duplicates(subset=['titulo'], keep='first', inplace=True)\n",
        "#Explicação: evitar amostras repetidas"
      ],
      "execution_count": null,
      "outputs": []
    },
    {
      "cell_type": "code",
      "metadata": {
        "colab": {
          "base_uri": "https://localhost:8080/"
        },
        "id": "pbRK-6J0m1Yl",
        "outputId": "bcdbe19d-c343-4cd0-eded-1ffa6d638acd"
      },
      "source": [
        "#Quantidade de amostras atual\n",
        "print(f'Atualizando: {df.shape[0]} amostras')"
      ],
      "execution_count": null,
      "outputs": [
        {
          "output_type": "stream",
          "text": [
            "Atualizando: 10153 amostras\n"
          ],
          "name": "stdout"
        }
      ]
    },
    {
      "cell_type": "code",
      "metadata": {
        "id": "Ct-KPrZ4m6Q6"
      },
      "source": [
        "#Lista com nomes de gêneros literários comuns\n",
        "generosLiterarios = ['adulto', 'artes', 'autoajuda', 'aventura', 'biografia', 'comunicação', 'contos', 'crime', 'crônica', 'culinária', 'decoração', 'drama', 'economia', 'ensaios', 'entretenimento', 'erótico', 'fantasia', 'ficção', 'filosofia', 'história', 'infantil', 'infantojuvenil', 'brasileira', 'estrangeira', 'matemática', 'memórias', 'música', 'não-ficção', 'poesias', 'policial', 'política', 'psicologia', 'religião', 'romance', 'saúde', 'sexo', 'sociologia', 'suspense', 'terror', 'viagens']"
      ],
      "execution_count": null,
      "outputs": []
    },
    {
      "cell_type": "code",
      "metadata": {
        "id": "Wfw9JqE3nCKs"
      },
      "source": [
        "#Adiciona coluna para cada gênero da lista anterior com valor 0\n",
        "for i in generosLiterarios:\n",
        "  df.loc[:, i] = 0"
      ],
      "execution_count": null,
      "outputs": []
    },
    {
      "cell_type": "code",
      "metadata": {
        "id": "Z5lOIadKnmz2"
      },
      "source": [
        "#Percorre as linhas do dataframe, verificando os termos presentes na coluna genero\n",
        "#Coloca o valor 1 nas colunas com os gêneros correspondentes\n",
        "#Exemplo, se na coluna genero tiver: \"drama, contos, adulto\", então nessas 3 colunas será colocado o valor 1\n",
        "for row in df.itertuples():\n",
        "  lista = re.split(r'[\\s,]+',str(row.genero)) #separa por espaço em branco e vírgula\n",
        "  for item in lista:\n",
        "    nome = item.lower().strip()\n",
        "    if nome in generosLiterarios:\n",
        "      df.loc[row.Index, nome] = 1"
      ],
      "execution_count": null,
      "outputs": []
    },
    {
      "cell_type": "code",
      "metadata": {
        "id": "UBD5b0xxn9NH"
      },
      "source": [
        "#Verifica se a coluna male é maior, menor ou igual a coluna female\n",
        "#retorna M quando male for maior, F quando female for maior e UNKNOWN quando for igual\n",
        "def acha_classe(registro):\n",
        "    if registro['male'] > registro['female']:\n",
        "        return 'M'\n",
        "    elif registro['male'] < registro['female']:\n",
        "        return 'F'\n",
        "    else:\n",
        "        return 'UNKNOWN'\n",
        "#Explicação: Será gerada uma coluna chamada gender para ser a coluna alvo no processo de aprendizado de máquina\n",
        "#essa coluna possuirá o valor M quando a maioria dos leitores for male e F quando a maioria for female"
      ],
      "execution_count": null,
      "outputs": []
    },
    {
      "cell_type": "code",
      "metadata": {
        "id": "jhzLCa3SoN8t"
      },
      "source": [
        "#Adiciona coluna gender com os valores retornados pela função acha_classe\n",
        "df['gender'] = df.apply(acha_classe, axis=1)"
      ],
      "execution_count": null,
      "outputs": []
    },
    {
      "cell_type": "code",
      "metadata": {
        "colab": {
          "base_uri": "https://localhost:8080/"
        },
        "id": "6ULx5PmLoQcV",
        "outputId": "81a393a9-0547-4725-88b8-a7bf57199675"
      },
      "source": [
        "df['gender'].value_counts()"
      ],
      "execution_count": null,
      "outputs": [
        {
          "output_type": "execute_result",
          "data": {
            "text/plain": [
              "F          8655\n",
              "M          1290\n",
              "UNKNOWN     208\n",
              "Name: gender, dtype: int64"
            ]
          },
          "metadata": {
            "tags": []
          },
          "execution_count": 15
        }
      ]
    },
    {
      "cell_type": "code",
      "metadata": {
        "id": "r9YEtqPooS51"
      },
      "source": [
        "# Pega os nomes dos índices para cada coluna gender com valor UNKNOWN\n",
        "indexNames = df[ df['gender'] == 'UNKNOWN' ].index\n",
        "#Apaga as linhas com os índices identificados do dataframe\n",
        "df.drop(indexNames , inplace=True)\n",
        "#Explicação: Remover as amostras onde Male e Female tem a mesma proporção"
      ],
      "execution_count": null,
      "outputs": []
    },
    {
      "cell_type": "code",
      "metadata": {
        "id": "lcbvYKHHoe9d"
      },
      "source": [
        "#Apaga as colunas que não serão consideradas na pesquisa\n",
        "df.drop(columns=['autor', 'ISBN_13', 'ISBN_10', 'idioma', 'rating', 'editora', 'avaliacao','resenha','abandonos','relendo','querem_ler','lendo','leram', 'descricao', 'genero', 'male', 'female'], inplace=True)\n",
        "#Observação: os campos rating, avaliacao, resenha, abandonos, relendo, querem_ler, lendo e leram serão coletados novamente\n",
        "#a fim de pegar as informações atualizadas e preecher várias amostras cujos valores estão 0 nesta base atual"
      ],
      "execution_count": null,
      "outputs": []
    },
    {
      "cell_type": "code",
      "metadata": {
        "colab": {
          "base_uri": "https://localhost:8080/",
          "height": 711
        },
        "id": "PwnM9VvapEK8",
        "outputId": "dc11f382-63ef-4bf0-8b76-763a92970a10"
      },
      "source": [
        "df"
      ],
      "execution_count": null,
      "outputs": [
        {
          "output_type": "execute_result",
          "data": {
            "text/html": [
              "<div>\n",
              "<style scoped>\n",
              "    .dataframe tbody tr th:only-of-type {\n",
              "        vertical-align: middle;\n",
              "    }\n",
              "\n",
              "    .dataframe tbody tr th {\n",
              "        vertical-align: top;\n",
              "    }\n",
              "\n",
              "    .dataframe thead th {\n",
              "        text-align: right;\n",
              "    }\n",
              "</style>\n",
              "<table border=\"1\" class=\"dataframe\">\n",
              "  <thead>\n",
              "    <tr style=\"text-align: right;\">\n",
              "      <th></th>\n",
              "      <th>titulo</th>\n",
              "      <th>ano</th>\n",
              "      <th>paginas</th>\n",
              "      <th>adulto</th>\n",
              "      <th>artes</th>\n",
              "      <th>autoajuda</th>\n",
              "      <th>aventura</th>\n",
              "      <th>biografia</th>\n",
              "      <th>comunicação</th>\n",
              "      <th>contos</th>\n",
              "      <th>crime</th>\n",
              "      <th>crônica</th>\n",
              "      <th>culinária</th>\n",
              "      <th>decoração</th>\n",
              "      <th>drama</th>\n",
              "      <th>economia</th>\n",
              "      <th>ensaios</th>\n",
              "      <th>entretenimento</th>\n",
              "      <th>erótico</th>\n",
              "      <th>fantasia</th>\n",
              "      <th>ficção</th>\n",
              "      <th>filosofia</th>\n",
              "      <th>história</th>\n",
              "      <th>infantil</th>\n",
              "      <th>infantojuvenil</th>\n",
              "      <th>brasileira</th>\n",
              "      <th>estrangeira</th>\n",
              "      <th>matemática</th>\n",
              "      <th>memórias</th>\n",
              "      <th>música</th>\n",
              "      <th>não-ficção</th>\n",
              "      <th>poesias</th>\n",
              "      <th>policial</th>\n",
              "      <th>política</th>\n",
              "      <th>psicologia</th>\n",
              "      <th>religião</th>\n",
              "      <th>romance</th>\n",
              "      <th>saúde</th>\n",
              "      <th>sexo</th>\n",
              "      <th>sociologia</th>\n",
              "      <th>suspense</th>\n",
              "      <th>terror</th>\n",
              "      <th>viagens</th>\n",
              "      <th>gender</th>\n",
              "    </tr>\n",
              "  </thead>\n",
              "  <tbody>\n",
              "    <tr>\n",
              "      <th>0</th>\n",
              "      <td>Orçamento sem falhas</td>\n",
              "      <td>2021</td>\n",
              "      <td>128</td>\n",
              "      <td>0</td>\n",
              "      <td>0</td>\n",
              "      <td>0</td>\n",
              "      <td>0</td>\n",
              "      <td>0</td>\n",
              "      <td>0</td>\n",
              "      <td>0</td>\n",
              "      <td>0</td>\n",
              "      <td>0</td>\n",
              "      <td>0</td>\n",
              "      <td>0</td>\n",
              "      <td>0</td>\n",
              "      <td>1</td>\n",
              "      <td>0</td>\n",
              "      <td>0</td>\n",
              "      <td>0</td>\n",
              "      <td>0</td>\n",
              "      <td>0</td>\n",
              "      <td>0</td>\n",
              "      <td>0</td>\n",
              "      <td>0</td>\n",
              "      <td>0</td>\n",
              "      <td>1</td>\n",
              "      <td>0</td>\n",
              "      <td>0</td>\n",
              "      <td>0</td>\n",
              "      <td>0</td>\n",
              "      <td>1</td>\n",
              "      <td>0</td>\n",
              "      <td>0</td>\n",
              "      <td>0</td>\n",
              "      <td>0</td>\n",
              "      <td>0</td>\n",
              "      <td>0</td>\n",
              "      <td>0</td>\n",
              "      <td>0</td>\n",
              "      <td>0</td>\n",
              "      <td>0</td>\n",
              "      <td>0</td>\n",
              "      <td>0</td>\n",
              "      <td>F</td>\n",
              "    </tr>\n",
              "    <tr>\n",
              "      <th>1</th>\n",
              "      <td>Minha Sombria Vanessa</td>\n",
              "      <td>2020</td>\n",
              "      <td>432</td>\n",
              "      <td>0</td>\n",
              "      <td>0</td>\n",
              "      <td>0</td>\n",
              "      <td>0</td>\n",
              "      <td>0</td>\n",
              "      <td>0</td>\n",
              "      <td>0</td>\n",
              "      <td>0</td>\n",
              "      <td>0</td>\n",
              "      <td>0</td>\n",
              "      <td>0</td>\n",
              "      <td>1</td>\n",
              "      <td>0</td>\n",
              "      <td>0</td>\n",
              "      <td>0</td>\n",
              "      <td>0</td>\n",
              "      <td>0</td>\n",
              "      <td>1</td>\n",
              "      <td>0</td>\n",
              "      <td>0</td>\n",
              "      <td>0</td>\n",
              "      <td>0</td>\n",
              "      <td>0</td>\n",
              "      <td>1</td>\n",
              "      <td>0</td>\n",
              "      <td>0</td>\n",
              "      <td>0</td>\n",
              "      <td>0</td>\n",
              "      <td>0</td>\n",
              "      <td>0</td>\n",
              "      <td>0</td>\n",
              "      <td>0</td>\n",
              "      <td>0</td>\n",
              "      <td>0</td>\n",
              "      <td>0</td>\n",
              "      <td>0</td>\n",
              "      <td>0</td>\n",
              "      <td>1</td>\n",
              "      <td>0</td>\n",
              "      <td>0</td>\n",
              "      <td>F</td>\n",
              "    </tr>\n",
              "    <tr>\n",
              "      <th>2</th>\n",
              "      <td>Recursão</td>\n",
              "      <td>2020</td>\n",
              "      <td>320</td>\n",
              "      <td>0</td>\n",
              "      <td>0</td>\n",
              "      <td>0</td>\n",
              "      <td>0</td>\n",
              "      <td>0</td>\n",
              "      <td>0</td>\n",
              "      <td>0</td>\n",
              "      <td>0</td>\n",
              "      <td>0</td>\n",
              "      <td>0</td>\n",
              "      <td>0</td>\n",
              "      <td>0</td>\n",
              "      <td>0</td>\n",
              "      <td>0</td>\n",
              "      <td>0</td>\n",
              "      <td>0</td>\n",
              "      <td>0</td>\n",
              "      <td>1</td>\n",
              "      <td>0</td>\n",
              "      <td>0</td>\n",
              "      <td>0</td>\n",
              "      <td>0</td>\n",
              "      <td>0</td>\n",
              "      <td>1</td>\n",
              "      <td>0</td>\n",
              "      <td>0</td>\n",
              "      <td>0</td>\n",
              "      <td>0</td>\n",
              "      <td>0</td>\n",
              "      <td>0</td>\n",
              "      <td>0</td>\n",
              "      <td>0</td>\n",
              "      <td>0</td>\n",
              "      <td>0</td>\n",
              "      <td>0</td>\n",
              "      <td>0</td>\n",
              "      <td>0</td>\n",
              "      <td>0</td>\n",
              "      <td>0</td>\n",
              "      <td>0</td>\n",
              "      <td>F</td>\n",
              "    </tr>\n",
              "    <tr>\n",
              "      <th>3</th>\n",
              "      <td>M, o Filho do Século</td>\n",
              "      <td>2020</td>\n",
              "      <td>816</td>\n",
              "      <td>0</td>\n",
              "      <td>0</td>\n",
              "      <td>0</td>\n",
              "      <td>0</td>\n",
              "      <td>1</td>\n",
              "      <td>0</td>\n",
              "      <td>0</td>\n",
              "      <td>0</td>\n",
              "      <td>0</td>\n",
              "      <td>0</td>\n",
              "      <td>0</td>\n",
              "      <td>0</td>\n",
              "      <td>0</td>\n",
              "      <td>0</td>\n",
              "      <td>0</td>\n",
              "      <td>0</td>\n",
              "      <td>0</td>\n",
              "      <td>0</td>\n",
              "      <td>0</td>\n",
              "      <td>1</td>\n",
              "      <td>0</td>\n",
              "      <td>0</td>\n",
              "      <td>0</td>\n",
              "      <td>1</td>\n",
              "      <td>0</td>\n",
              "      <td>1</td>\n",
              "      <td>0</td>\n",
              "      <td>0</td>\n",
              "      <td>0</td>\n",
              "      <td>0</td>\n",
              "      <td>1</td>\n",
              "      <td>0</td>\n",
              "      <td>0</td>\n",
              "      <td>0</td>\n",
              "      <td>0</td>\n",
              "      <td>0</td>\n",
              "      <td>0</td>\n",
              "      <td>0</td>\n",
              "      <td>0</td>\n",
              "      <td>0</td>\n",
              "      <td>F</td>\n",
              "    </tr>\n",
              "    <tr>\n",
              "      <th>4</th>\n",
              "      <td>Oblivion Song: Entre Dois Mundos</td>\n",
              "      <td>2020</td>\n",
              "      <td>136</td>\n",
              "      <td>0</td>\n",
              "      <td>0</td>\n",
              "      <td>0</td>\n",
              "      <td>0</td>\n",
              "      <td>0</td>\n",
              "      <td>0</td>\n",
              "      <td>0</td>\n",
              "      <td>0</td>\n",
              "      <td>0</td>\n",
              "      <td>0</td>\n",
              "      <td>0</td>\n",
              "      <td>0</td>\n",
              "      <td>0</td>\n",
              "      <td>0</td>\n",
              "      <td>0</td>\n",
              "      <td>0</td>\n",
              "      <td>0</td>\n",
              "      <td>1</td>\n",
              "      <td>0</td>\n",
              "      <td>0</td>\n",
              "      <td>0</td>\n",
              "      <td>0</td>\n",
              "      <td>0</td>\n",
              "      <td>1</td>\n",
              "      <td>0</td>\n",
              "      <td>0</td>\n",
              "      <td>0</td>\n",
              "      <td>0</td>\n",
              "      <td>0</td>\n",
              "      <td>0</td>\n",
              "      <td>0</td>\n",
              "      <td>0</td>\n",
              "      <td>0</td>\n",
              "      <td>0</td>\n",
              "      <td>0</td>\n",
              "      <td>0</td>\n",
              "      <td>0</td>\n",
              "      <td>0</td>\n",
              "      <td>0</td>\n",
              "      <td>0</td>\n",
              "      <td>F</td>\n",
              "    </tr>\n",
              "    <tr>\n",
              "      <th>...</th>\n",
              "      <td>...</td>\n",
              "      <td>...</td>\n",
              "      <td>...</td>\n",
              "      <td>...</td>\n",
              "      <td>...</td>\n",
              "      <td>...</td>\n",
              "      <td>...</td>\n",
              "      <td>...</td>\n",
              "      <td>...</td>\n",
              "      <td>...</td>\n",
              "      <td>...</td>\n",
              "      <td>...</td>\n",
              "      <td>...</td>\n",
              "      <td>...</td>\n",
              "      <td>...</td>\n",
              "      <td>...</td>\n",
              "      <td>...</td>\n",
              "      <td>...</td>\n",
              "      <td>...</td>\n",
              "      <td>...</td>\n",
              "      <td>...</td>\n",
              "      <td>...</td>\n",
              "      <td>...</td>\n",
              "      <td>...</td>\n",
              "      <td>...</td>\n",
              "      <td>...</td>\n",
              "      <td>...</td>\n",
              "      <td>...</td>\n",
              "      <td>...</td>\n",
              "      <td>...</td>\n",
              "      <td>...</td>\n",
              "      <td>...</td>\n",
              "      <td>...</td>\n",
              "      <td>...</td>\n",
              "      <td>...</td>\n",
              "      <td>...</td>\n",
              "      <td>...</td>\n",
              "      <td>...</td>\n",
              "      <td>...</td>\n",
              "      <td>...</td>\n",
              "      <td>...</td>\n",
              "      <td>...</td>\n",
              "      <td>...</td>\n",
              "      <td>...</td>\n",
              "    </tr>\n",
              "    <tr>\n",
              "      <th>11970</th>\n",
              "      <td>Poemas completos de Alberto Caeiro</td>\n",
              "      <td>2007</td>\n",
              "      <td>208</td>\n",
              "      <td>0</td>\n",
              "      <td>0</td>\n",
              "      <td>0</td>\n",
              "      <td>0</td>\n",
              "      <td>0</td>\n",
              "      <td>0</td>\n",
              "      <td>0</td>\n",
              "      <td>0</td>\n",
              "      <td>0</td>\n",
              "      <td>0</td>\n",
              "      <td>0</td>\n",
              "      <td>0</td>\n",
              "      <td>0</td>\n",
              "      <td>0</td>\n",
              "      <td>0</td>\n",
              "      <td>0</td>\n",
              "      <td>0</td>\n",
              "      <td>0</td>\n",
              "      <td>0</td>\n",
              "      <td>0</td>\n",
              "      <td>0</td>\n",
              "      <td>0</td>\n",
              "      <td>0</td>\n",
              "      <td>1</td>\n",
              "      <td>0</td>\n",
              "      <td>0</td>\n",
              "      <td>0</td>\n",
              "      <td>0</td>\n",
              "      <td>1</td>\n",
              "      <td>0</td>\n",
              "      <td>0</td>\n",
              "      <td>0</td>\n",
              "      <td>0</td>\n",
              "      <td>0</td>\n",
              "      <td>0</td>\n",
              "      <td>0</td>\n",
              "      <td>0</td>\n",
              "      <td>0</td>\n",
              "      <td>0</td>\n",
              "      <td>0</td>\n",
              "      <td>F</td>\n",
              "    </tr>\n",
              "    <tr>\n",
              "      <th>11971</th>\n",
              "      <td>Poesia de Álvaro de Campos</td>\n",
              "      <td>2007</td>\n",
              "      <td>600</td>\n",
              "      <td>0</td>\n",
              "      <td>0</td>\n",
              "      <td>0</td>\n",
              "      <td>0</td>\n",
              "      <td>0</td>\n",
              "      <td>0</td>\n",
              "      <td>0</td>\n",
              "      <td>0</td>\n",
              "      <td>0</td>\n",
              "      <td>0</td>\n",
              "      <td>0</td>\n",
              "      <td>0</td>\n",
              "      <td>0</td>\n",
              "      <td>0</td>\n",
              "      <td>0</td>\n",
              "      <td>0</td>\n",
              "      <td>0</td>\n",
              "      <td>1</td>\n",
              "      <td>0</td>\n",
              "      <td>0</td>\n",
              "      <td>0</td>\n",
              "      <td>0</td>\n",
              "      <td>1</td>\n",
              "      <td>0</td>\n",
              "      <td>0</td>\n",
              "      <td>0</td>\n",
              "      <td>0</td>\n",
              "      <td>0</td>\n",
              "      <td>0</td>\n",
              "      <td>0</td>\n",
              "      <td>0</td>\n",
              "      <td>0</td>\n",
              "      <td>0</td>\n",
              "      <td>0</td>\n",
              "      <td>0</td>\n",
              "      <td>0</td>\n",
              "      <td>0</td>\n",
              "      <td>0</td>\n",
              "      <td>0</td>\n",
              "      <td>0</td>\n",
              "      <td>F</td>\n",
              "    </tr>\n",
              "    <tr>\n",
              "      <th>11972</th>\n",
              "      <td>Ben-Hur</td>\n",
              "      <td>2006</td>\n",
              "      <td>528</td>\n",
              "      <td>1</td>\n",
              "      <td>0</td>\n",
              "      <td>0</td>\n",
              "      <td>1</td>\n",
              "      <td>0</td>\n",
              "      <td>0</td>\n",
              "      <td>0</td>\n",
              "      <td>1</td>\n",
              "      <td>0</td>\n",
              "      <td>0</td>\n",
              "      <td>0</td>\n",
              "      <td>1</td>\n",
              "      <td>0</td>\n",
              "      <td>0</td>\n",
              "      <td>1</td>\n",
              "      <td>0</td>\n",
              "      <td>0</td>\n",
              "      <td>1</td>\n",
              "      <td>0</td>\n",
              "      <td>1</td>\n",
              "      <td>0</td>\n",
              "      <td>1</td>\n",
              "      <td>0</td>\n",
              "      <td>1</td>\n",
              "      <td>0</td>\n",
              "      <td>0</td>\n",
              "      <td>0</td>\n",
              "      <td>0</td>\n",
              "      <td>0</td>\n",
              "      <td>0</td>\n",
              "      <td>0</td>\n",
              "      <td>0</td>\n",
              "      <td>1</td>\n",
              "      <td>1</td>\n",
              "      <td>0</td>\n",
              "      <td>0</td>\n",
              "      <td>0</td>\n",
              "      <td>1</td>\n",
              "      <td>0</td>\n",
              "      <td>0</td>\n",
              "      <td>F</td>\n",
              "    </tr>\n",
              "    <tr>\n",
              "      <th>11973</th>\n",
              "      <td>Folhas de Relva</td>\n",
              "      <td>2005</td>\n",
              "      <td>575</td>\n",
              "      <td>0</td>\n",
              "      <td>0</td>\n",
              "      <td>0</td>\n",
              "      <td>0</td>\n",
              "      <td>0</td>\n",
              "      <td>0</td>\n",
              "      <td>0</td>\n",
              "      <td>0</td>\n",
              "      <td>0</td>\n",
              "      <td>0</td>\n",
              "      <td>0</td>\n",
              "      <td>0</td>\n",
              "      <td>0</td>\n",
              "      <td>0</td>\n",
              "      <td>0</td>\n",
              "      <td>0</td>\n",
              "      <td>0</td>\n",
              "      <td>0</td>\n",
              "      <td>0</td>\n",
              "      <td>0</td>\n",
              "      <td>0</td>\n",
              "      <td>0</td>\n",
              "      <td>0</td>\n",
              "      <td>1</td>\n",
              "      <td>0</td>\n",
              "      <td>0</td>\n",
              "      <td>0</td>\n",
              "      <td>0</td>\n",
              "      <td>1</td>\n",
              "      <td>0</td>\n",
              "      <td>0</td>\n",
              "      <td>0</td>\n",
              "      <td>0</td>\n",
              "      <td>0</td>\n",
              "      <td>0</td>\n",
              "      <td>0</td>\n",
              "      <td>0</td>\n",
              "      <td>0</td>\n",
              "      <td>0</td>\n",
              "      <td>0</td>\n",
              "      <td>F</td>\n",
              "    </tr>\n",
              "    <tr>\n",
              "      <th>11974</th>\n",
              "      <td>O sermão da montanha</td>\n",
              "      <td>2003</td>\n",
              "      <td>158</td>\n",
              "      <td>0</td>\n",
              "      <td>0</td>\n",
              "      <td>0</td>\n",
              "      <td>0</td>\n",
              "      <td>0</td>\n",
              "      <td>0</td>\n",
              "      <td>0</td>\n",
              "      <td>0</td>\n",
              "      <td>0</td>\n",
              "      <td>0</td>\n",
              "      <td>0</td>\n",
              "      <td>0</td>\n",
              "      <td>0</td>\n",
              "      <td>0</td>\n",
              "      <td>0</td>\n",
              "      <td>0</td>\n",
              "      <td>0</td>\n",
              "      <td>0</td>\n",
              "      <td>0</td>\n",
              "      <td>0</td>\n",
              "      <td>0</td>\n",
              "      <td>0</td>\n",
              "      <td>0</td>\n",
              "      <td>0</td>\n",
              "      <td>0</td>\n",
              "      <td>0</td>\n",
              "      <td>0</td>\n",
              "      <td>0</td>\n",
              "      <td>0</td>\n",
              "      <td>0</td>\n",
              "      <td>0</td>\n",
              "      <td>0</td>\n",
              "      <td>1</td>\n",
              "      <td>0</td>\n",
              "      <td>0</td>\n",
              "      <td>0</td>\n",
              "      <td>0</td>\n",
              "      <td>0</td>\n",
              "      <td>0</td>\n",
              "      <td>0</td>\n",
              "      <td>M</td>\n",
              "    </tr>\n",
              "  </tbody>\n",
              "</table>\n",
              "<p>9945 rows × 44 columns</p>\n",
              "</div>"
            ],
            "text/plain": [
              "                                   titulo   ano  ...  viagens  gender\n",
              "0                    Orçamento sem falhas  2021  ...        0       F\n",
              "1                   Minha Sombria Vanessa  2020  ...        0       F\n",
              "2                                Recursão  2020  ...        0       F\n",
              "3                    M, o Filho do Século  2020  ...        0       F\n",
              "4        Oblivion Song: Entre Dois Mundos  2020  ...        0       F\n",
              "...                                   ...   ...  ...      ...     ...\n",
              "11970  Poemas completos de Alberto Caeiro  2007  ...        0       F\n",
              "11971          Poesia de Álvaro de Campos  2007  ...        0       F\n",
              "11972                             Ben-Hur  2006  ...        0       F\n",
              "11973                     Folhas de Relva  2005  ...        0       F\n",
              "11974                O sermão da montanha  2003  ...        0       M\n",
              "\n",
              "[9945 rows x 44 columns]"
            ]
          },
          "metadata": {
            "tags": []
          },
          "execution_count": 18
        }
      ]
    },
    {
      "cell_type": "code",
      "metadata": {
        "id": "lUTxif6xpEp1"
      },
      "source": [
        "#Salva resultado do processamento inicial\n",
        "df.to_csv('./dadosProcessados.csv',index=False)"
      ],
      "execution_count": null,
      "outputs": []
    },
    {
      "cell_type": "markdown",
      "metadata": {
        "id": "HxJG67PTpTFx"
      },
      "source": [
        "# 2 - Coleta de dados no site Skoob para atualizar a base\n",
        "\n",
        "Isso foi necessário, pois muitas amostras estavam com valores 0 para os campos rating, avaliacao, resenha, abandonos, relendo, querem_ler, lendo e leram\n",
        "\n",
        "Além disso, nessa raspagem foram acrescentados os campos favoritos, desejados, trocam e avaliaram"
      ]
    },
    {
      "cell_type": "code",
      "metadata": {
        "id": "XXroEDu0pYFg"
      },
      "source": [
        "#Gera dataframe com os dados atuais já processados\n",
        "dfprocessado = pd.read_csv('./dadosProcessados.csv')"
      ],
      "execution_count": null,
      "outputs": []
    },
    {
      "cell_type": "code",
      "metadata": {
        "id": "-YL65lGSqOn9"
      },
      "source": [
        "#Gera dataframe para armazenar os novos dados dos livros\n",
        "df_novosdados = pd.DataFrame(columns=['rating','resenhas', 'abandonos', 'relendo', 'querem_ler', 'lendo', 'leram', 'favoritos', 'desejados', 'trocam', 'avaliaram'])"
      ],
      "execution_count": null,
      "outputs": []
    },
    {
      "cell_type": "code",
      "metadata": {
        "id": "UqG8gWbHqV7r"
      },
      "source": [
        "#Gera dataframe com os links dos livros do projeto original (Arquivo disponível no Kaggle Livros Skoob)\n",
        "df_links = pd.read_csv('./livros_link.csv')"
      ],
      "execution_count": null,
      "outputs": []
    },
    {
      "cell_type": "code",
      "metadata": {
        "colab": {
          "base_uri": "https://localhost:8080/"
        },
        "id": "9nFtVsHRqdcr",
        "outputId": "9b77364f-339a-4cde-89e9-7c85028a1142"
      },
      "source": [
        "#verifica se algum livro/link está com NaN \n",
        "df_links.isna().sum() "
      ],
      "execution_count": null,
      "outputs": [
        {
          "output_type": "execute_result",
          "data": {
            "text/plain": [
              "livros    1\n",
              "link      0\n",
              "dtype: int64"
            ]
          },
          "metadata": {
            "tags": []
          },
          "execution_count": 24
        }
      ]
    },
    {
      "cell_type": "code",
      "metadata": {
        "id": "mrEdrkHIqiK4"
      },
      "source": [
        "#apaga a linha com NaN\n",
        "df_links.dropna(inplace=True)"
      ],
      "execution_count": null,
      "outputs": []
    },
    {
      "cell_type": "code",
      "metadata": {
        "id": "6NHoKghpql54"
      },
      "source": [
        "#faz a raspagem dos dados para cada livro no site Skoob\n",
        "\n",
        "#Para cada titulo de dfprocessado \n",
        "for livro in dfprocessado['titulo']:\n",
        "  \n",
        "  dados_livro = []\n",
        "\n",
        "  try:\n",
        "    link = df_links[df_links['livros'] == livro]['link'].values[0]\n",
        "    url_base = 'https://www.skoob.com.br{}'.format(link) \n",
        "    response = rq.get(url_base)\n",
        "    soup = BeautifulSoup(response.text, 'html.parser')\n",
        "    \n",
        "    #pega rating\n",
        "    dados_livro.append(soup.find(\"span\", attrs={\"class\": \"rating\"}).get_text())\n",
        "\n",
        "    #pega resenhas, abandonos, relendo, querem_ler, lendo e leram\n",
        "    for dados in soup.find_all(\"div\", attrs={\"class\": \"bar\"}):\n",
        "      dados_livro.append(dados.b.get_text())\n",
        "    \n",
        "    #pega favoritos, desejados, trocam e avaliaram\n",
        "    menuazul = soup.find(\"div\", attrs={\"id\": \"pg-livro-menu-azul\"}) \n",
        "    for dados in menuazul.find_all('a'):\n",
        "      dados_livro.append(re.search(r'.*\\s*\\((.+)\\)', dados.get_text()).group(1))\n",
        "    \n",
        "  except Exception:\n",
        "    #caso algo dê errado, preenche a lista com NaN\n",
        "    dados_livro = [np.nan, np.nan, np.nan, np.nan, np.nan, np.nan, np.nan, np.nan, np.nan, np.nan, np.nan]\n",
        "\n",
        "  print(dados_livro)\n",
        "  \n",
        "  df_novosdados.loc[len(df_novosdados)] = dados_livro #adiciona ao final do dataframe"
      ],
      "execution_count": null,
      "outputs": []
    },
    {
      "cell_type": "code",
      "metadata": {
        "id": "H99XsrE_q1Nk"
      },
      "source": [
        "df_novosdados"
      ],
      "execution_count": null,
      "outputs": []
    },
    {
      "cell_type": "code",
      "metadata": {
        "id": "lw_muWojq1ts"
      },
      "source": [
        "#junta o dfprocessado com o df_novosdados e armazena tudo\n",
        "dfprocessado.join(df_novosdados).dropna(inplace=True).to_csv('./tudo.csv',index=False)"
      ],
      "execution_count": null,
      "outputs": []
    },
    {
      "cell_type": "markdown",
      "metadata": {
        "id": "d63VslNascW0"
      },
      "source": [
        "# 3 - Processa a base completa"
      ]
    },
    {
      "cell_type": "code",
      "metadata": {
        "id": "DqPyHwn7scmb"
      },
      "source": [
        "dfTudo = pd.read_csv('./tudo.csv', decimal=',')"
      ],
      "execution_count": null,
      "outputs": []
    },
    {
      "cell_type": "code",
      "metadata": {
        "id": "ieDtixTYsqCk"
      },
      "source": [
        "dfTudo"
      ],
      "execution_count": null,
      "outputs": []
    },
    {
      "cell_type": "code",
      "metadata": {
        "id": "VAr1liNoss2n"
      },
      "source": [
        "#remove a coluna titulo que nao sera usada a partir daqui\n",
        "dfTudo.drop(columns = ['titulo'], inplace=True)"
      ],
      "execution_count": null,
      "outputs": []
    },
    {
      "cell_type": "code",
      "metadata": {
        "id": "Hmf5zUJssvfX"
      },
      "source": [
        "#converte a coluna alvo (gender) de categorico para numerico\n",
        "labelencoder = LabelEncoder ()\n",
        "dfTudo['gender'] = labelencoder.fit_transform(dfTudo['gender']) "
      ],
      "execution_count": null,
      "outputs": []
    },
    {
      "cell_type": "code",
      "metadata": {
        "id": "V8_Mjqd9s0E4"
      },
      "source": [
        "#remove o ponto dos campos que representam uma contagem e estão como object para transformar em numeric\n",
        "dfTudo[['resenhas', 'abandonos', 'relendo', 'querem_ler', 'lendo', 'leram', 'favoritos', 'desejados', 'trocam', 'avaliaram']] = dfTudo[['resenhas', 'abandonos', 'relendo', 'querem_ler', 'lendo', 'leram', 'favoritos', 'desejados', 'trocam', 'avaliaram']].apply(lambda x: x.str.replace('.', ''))"
      ],
      "execution_count": null,
      "outputs": []
    },
    {
      "cell_type": "code",
      "metadata": {
        "id": "DvbsL1OrtOnQ"
      },
      "source": [
        "#transforma em numeric\n",
        "dfTudo = dfTudo.apply(pd.to_numeric)"
      ],
      "execution_count": null,
      "outputs": []
    },
    {
      "cell_type": "code",
      "metadata": {
        "id": "Yhxdne1otR4a"
      },
      "source": [
        "dfTudo"
      ],
      "execution_count": null,
      "outputs": []
    },
    {
      "cell_type": "code",
      "metadata": {
        "id": "FCgDF0JntWTn"
      },
      "source": [
        "dfTudo.to_csv('./tudoProcessado.csv',index=False)"
      ],
      "execution_count": null,
      "outputs": []
    },
    {
      "cell_type": "markdown",
      "metadata": {
        "id": "E_pg8RFVtYOa"
      },
      "source": [
        "# 4 - Análise exploratória da base"
      ]
    },
    {
      "cell_type": "code",
      "metadata": {
        "id": "rikknl7rtw_Z"
      },
      "source": [
        "dfTudoProcessado = pd.read_csv('./tudoProcessado.csv', decimal=',')"
      ],
      "execution_count": null,
      "outputs": []
    },
    {
      "cell_type": "code",
      "metadata": {
        "colab": {
          "base_uri": "https://localhost:8080/"
        },
        "id": "Y5gdyYLqtYaI",
        "outputId": "2bfc28b3-f75b-4212-c420-03398252f5a0"
      },
      "source": [
        "#verifica desbalanceamento em relação ao gender\n",
        "dfTudoProcessado['gender'].value_counts()"
      ],
      "execution_count": null,
      "outputs": [
        {
          "output_type": "execute_result",
          "data": {
            "text/plain": [
              "0    8647\n",
              "1    1290\n",
              "Name: gender, dtype: int64"
            ]
          },
          "metadata": {
            "tags": []
          },
          "execution_count": 28
        }
      ]
    },
    {
      "cell_type": "code",
      "metadata": {
        "id": "DWAH7HLVt42K"
      },
      "source": [
        "gender  = ((dfTudoProcessado['gender'].value_counts()/len(dfTudoProcessado)).round(3)*100)"
      ],
      "execution_count": null,
      "outputs": []
    },
    {
      "cell_type": "code",
      "metadata": {
        "colab": {
          "base_uri": "https://localhost:8080/"
        },
        "id": "I7n4R2tWt_zZ",
        "outputId": "1fbb0565-7c9e-49c3-cd18-1778e4d73044"
      },
      "source": [
        "gender"
      ],
      "execution_count": null,
      "outputs": [
        {
          "output_type": "execute_result",
          "data": {
            "text/plain": [
              "0    87.0\n",
              "1    13.0\n",
              "Name: gender, dtype: float64"
            ]
          },
          "metadata": {
            "tags": []
          },
          "execution_count": 30
        }
      ]
    },
    {
      "cell_type": "code",
      "metadata": {
        "colab": {
          "base_uri": "https://localhost:8080/",
          "height": 466
        },
        "id": "6Wkji8dHuE7p",
        "outputId": "d733cd39-4039-413d-e1f2-cacc43927f1e"
      },
      "source": [
        "fig, ax1 = plt.subplots(figsize = (8,8)) \n",
        "plt.pie(gender, explode = (0, 0.1), startangle=90, autopct='%1.1f%%', counterclock=False)\n",
        "plt.legend(['Feminino', 'Masculino'],loc= 'upper right')\n",
        "plt.show()"
      ],
      "execution_count": null,
      "outputs": [
        {
          "output_type": "display_data",
          "data": {
            "image/png": "[encoded data removed]",
            "text/plain": [
              "<Figure size 576x576 with 1 Axes>"
            ]
          },
          "metadata": {
            "tags": []
          }
        }
      ]
    },
    {
      "cell_type": "markdown",
      "metadata": {
        "id": "XNT_zYMjuOv9"
      },
      "source": [
        "## 4.1 - Undersampling\n",
        "\n",
        "Balanceamento da base em relação às classes Feminino e Masculino"
      ]
    },
    {
      "cell_type": "code",
      "metadata": {
        "id": "-9lB9LhMuOaZ"
      },
      "source": [
        "#faz reamostragem para balancear as classes\n",
        "nm = NearMiss()\n",
        "X_res, y_res = nm.fit_resample(dfTudoProcessado.drop(columns=['gender']), dfTudoProcessado['gender'])"
      ],
      "execution_count": null,
      "outputs": []
    },
    {
      "cell_type": "code",
      "metadata": {
        "colab": {
          "base_uri": "https://localhost:8080/"
        },
        "id": "LDKyAjsNuPL3",
        "outputId": "319af1ca-351b-4f00-ae80-cc8be31a4bfb"
      },
      "source": [
        "#classes balanceadas\n",
        "print(f'Base balanceada: {Counter(y_res)}')"
      ],
      "execution_count": null,
      "outputs": [
        {
          "output_type": "stream",
          "text": [
            "Base balanceada: Counter({0: 1290, 1: 1290})\n"
          ],
          "name": "stdout"
        }
      ]
    },
    {
      "cell_type": "code",
      "metadata": {
        "id": "CPaPBUZ_vD08"
      },
      "source": [
        "#gera dataframe com os dados balanceados\n",
        "dfBalanceado = pd.DataFrame(X_res, columns=dfTudoProcessado.columns.drop('gender'))"
      ],
      "execution_count": null,
      "outputs": []
    },
    {
      "cell_type": "code",
      "metadata": {
        "id": "6MJ-Ug8tveZN"
      },
      "source": [
        "#acrescenta coluna alvo\n",
        "dfBalanceado['gender'] = pd.Series(y_res)"
      ],
      "execution_count": null,
      "outputs": []
    },
    {
      "cell_type": "code",
      "metadata": {
        "colab": {
          "base_uri": "https://localhost:8080/"
        },
        "id": "9KmVoZIBTA8J",
        "outputId": "77b29524-adf1-45b4-98be-d719921f868f"
      },
      "source": [
        "#mostra quantidade de amostra de cada classe (feminino e masculino)\n",
        "dfBalanceado['gender'].value_counts()"
      ],
      "execution_count": null,
      "outputs": [
        {
          "output_type": "execute_result",
          "data": {
            "text/plain": [
              "1    1290\n",
              "0    1290\n",
              "Name: gender, dtype: int64"
            ]
          },
          "metadata": {
            "tags": []
          },
          "execution_count": 46
        }
      ]
    },
    {
      "cell_type": "code",
      "metadata": {
        "colab": {
          "base_uri": "https://localhost:8080/",
          "height": 456
        },
        "id": "3QNmZr8fvgkS",
        "outputId": "5d574086-2b8a-4e63-d402-e2b3a603d885"
      },
      "source": [
        "dfBalanceado"
      ],
      "execution_count": null,
      "outputs": [
        {
          "output_type": "execute_result",
          "data": {
            "text/html": [
              "<div>\n",
              "<style scoped>\n",
              "    .dataframe tbody tr th:only-of-type {\n",
              "        vertical-align: middle;\n",
              "    }\n",
              "\n",
              "    .dataframe tbody tr th {\n",
              "        vertical-align: top;\n",
              "    }\n",
              "\n",
              "    .dataframe thead th {\n",
              "        text-align: right;\n",
              "    }\n",
              "</style>\n",
              "<table border=\"1\" class=\"dataframe\">\n",
              "  <thead>\n",
              "    <tr style=\"text-align: right;\">\n",
              "      <th></th>\n",
              "      <th>ano</th>\n",
              "      <th>paginas</th>\n",
              "      <th>adulto</th>\n",
              "      <th>artes</th>\n",
              "      <th>autoajuda</th>\n",
              "      <th>aventura</th>\n",
              "      <th>biografia</th>\n",
              "      <th>comunicação</th>\n",
              "      <th>contos</th>\n",
              "      <th>crime</th>\n",
              "      <th>crônica</th>\n",
              "      <th>culinária</th>\n",
              "      <th>decoração</th>\n",
              "      <th>drama</th>\n",
              "      <th>economia</th>\n",
              "      <th>ensaios</th>\n",
              "      <th>entretenimento</th>\n",
              "      <th>erótico</th>\n",
              "      <th>fantasia</th>\n",
              "      <th>ficção</th>\n",
              "      <th>filosofia</th>\n",
              "      <th>história</th>\n",
              "      <th>infantil</th>\n",
              "      <th>infantojuvenil</th>\n",
              "      <th>brasileira</th>\n",
              "      <th>estrangeira</th>\n",
              "      <th>matemática</th>\n",
              "      <th>memórias</th>\n",
              "      <th>música</th>\n",
              "      <th>não-ficção</th>\n",
              "      <th>poesias</th>\n",
              "      <th>policial</th>\n",
              "      <th>política</th>\n",
              "      <th>psicologia</th>\n",
              "      <th>religião</th>\n",
              "      <th>romance</th>\n",
              "      <th>saúde</th>\n",
              "      <th>sexo</th>\n",
              "      <th>sociologia</th>\n",
              "      <th>suspense</th>\n",
              "      <th>terror</th>\n",
              "      <th>viagens</th>\n",
              "      <th>ratingcurrent</th>\n",
              "      <th>resenhas</th>\n",
              "      <th>abandonos</th>\n",
              "      <th>relendo</th>\n",
              "      <th>querem_ler</th>\n",
              "      <th>lendo</th>\n",
              "      <th>leram</th>\n",
              "      <th>favoritos</th>\n",
              "      <th>desejados</th>\n",
              "      <th>trocam</th>\n",
              "      <th>avaliaram</th>\n",
              "      <th>gender</th>\n",
              "    </tr>\n",
              "  </thead>\n",
              "  <tbody>\n",
              "    <tr>\n",
              "      <th>0</th>\n",
              "      <td>2012.0</td>\n",
              "      <td>10.0</td>\n",
              "      <td>0.0</td>\n",
              "      <td>0.0</td>\n",
              "      <td>0.0</td>\n",
              "      <td>0.0</td>\n",
              "      <td>0.0</td>\n",
              "      <td>0.0</td>\n",
              "      <td>0.0</td>\n",
              "      <td>0.0</td>\n",
              "      <td>0.0</td>\n",
              "      <td>0.0</td>\n",
              "      <td>0.0</td>\n",
              "      <td>0.0</td>\n",
              "      <td>0.0</td>\n",
              "      <td>0.0</td>\n",
              "      <td>0.0</td>\n",
              "      <td>0.0</td>\n",
              "      <td>0.0</td>\n",
              "      <td>0.0</td>\n",
              "      <td>0.0</td>\n",
              "      <td>0.0</td>\n",
              "      <td>0.0</td>\n",
              "      <td>0.0</td>\n",
              "      <td>0.0</td>\n",
              "      <td>0.0</td>\n",
              "      <td>0.0</td>\n",
              "      <td>0.0</td>\n",
              "      <td>0.0</td>\n",
              "      <td>0.0</td>\n",
              "      <td>0.0</td>\n",
              "      <td>0.0</td>\n",
              "      <td>0.0</td>\n",
              "      <td>0.0</td>\n",
              "      <td>0.0</td>\n",
              "      <td>0.0</td>\n",
              "      <td>0.0</td>\n",
              "      <td>0.0</td>\n",
              "      <td>0.0</td>\n",
              "      <td>0.0</td>\n",
              "      <td>0.0</td>\n",
              "      <td>0.0</td>\n",
              "      <td>3.7</td>\n",
              "      <td>0.0</td>\n",
              "      <td>0.0</td>\n",
              "      <td>0.0</td>\n",
              "      <td>2.0</td>\n",
              "      <td>0.0</td>\n",
              "      <td>3.0</td>\n",
              "      <td>0.0</td>\n",
              "      <td>1.0</td>\n",
              "      <td>0.0</td>\n",
              "      <td>3.0</td>\n",
              "      <td>0</td>\n",
              "    </tr>\n",
              "    <tr>\n",
              "      <th>1</th>\n",
              "      <td>2008.0</td>\n",
              "      <td>10.0</td>\n",
              "      <td>0.0</td>\n",
              "      <td>0.0</td>\n",
              "      <td>0.0</td>\n",
              "      <td>0.0</td>\n",
              "      <td>0.0</td>\n",
              "      <td>0.0</td>\n",
              "      <td>0.0</td>\n",
              "      <td>0.0</td>\n",
              "      <td>0.0</td>\n",
              "      <td>0.0</td>\n",
              "      <td>0.0</td>\n",
              "      <td>0.0</td>\n",
              "      <td>0.0</td>\n",
              "      <td>0.0</td>\n",
              "      <td>0.0</td>\n",
              "      <td>0.0</td>\n",
              "      <td>0.0</td>\n",
              "      <td>0.0</td>\n",
              "      <td>0.0</td>\n",
              "      <td>0.0</td>\n",
              "      <td>0.0</td>\n",
              "      <td>0.0</td>\n",
              "      <td>0.0</td>\n",
              "      <td>0.0</td>\n",
              "      <td>0.0</td>\n",
              "      <td>0.0</td>\n",
              "      <td>0.0</td>\n",
              "      <td>0.0</td>\n",
              "      <td>0.0</td>\n",
              "      <td>0.0</td>\n",
              "      <td>0.0</td>\n",
              "      <td>0.0</td>\n",
              "      <td>0.0</td>\n",
              "      <td>0.0</td>\n",
              "      <td>0.0</td>\n",
              "      <td>0.0</td>\n",
              "      <td>0.0</td>\n",
              "      <td>0.0</td>\n",
              "      <td>0.0</td>\n",
              "      <td>0.0</td>\n",
              "      <td>4.0</td>\n",
              "      <td>0.0</td>\n",
              "      <td>0.0</td>\n",
              "      <td>0.0</td>\n",
              "      <td>1.0</td>\n",
              "      <td>0.0</td>\n",
              "      <td>2.0</td>\n",
              "      <td>0.0</td>\n",
              "      <td>0.0</td>\n",
              "      <td>0.0</td>\n",
              "      <td>1.0</td>\n",
              "      <td>0</td>\n",
              "    </tr>\n",
              "    <tr>\n",
              "      <th>2</th>\n",
              "      <td>2008.0</td>\n",
              "      <td>128.0</td>\n",
              "      <td>0.0</td>\n",
              "      <td>0.0</td>\n",
              "      <td>0.0</td>\n",
              "      <td>0.0</td>\n",
              "      <td>0.0</td>\n",
              "      <td>0.0</td>\n",
              "      <td>0.0</td>\n",
              "      <td>0.0</td>\n",
              "      <td>0.0</td>\n",
              "      <td>0.0</td>\n",
              "      <td>0.0</td>\n",
              "      <td>0.0</td>\n",
              "      <td>0.0</td>\n",
              "      <td>0.0</td>\n",
              "      <td>0.0</td>\n",
              "      <td>0.0</td>\n",
              "      <td>0.0</td>\n",
              "      <td>0.0</td>\n",
              "      <td>0.0</td>\n",
              "      <td>0.0</td>\n",
              "      <td>0.0</td>\n",
              "      <td>0.0</td>\n",
              "      <td>0.0</td>\n",
              "      <td>0.0</td>\n",
              "      <td>0.0</td>\n",
              "      <td>0.0</td>\n",
              "      <td>0.0</td>\n",
              "      <td>0.0</td>\n",
              "      <td>0.0</td>\n",
              "      <td>0.0</td>\n",
              "      <td>0.0</td>\n",
              "      <td>0.0</td>\n",
              "      <td>0.0</td>\n",
              "      <td>0.0</td>\n",
              "      <td>0.0</td>\n",
              "      <td>0.0</td>\n",
              "      <td>0.0</td>\n",
              "      <td>0.0</td>\n",
              "      <td>0.0</td>\n",
              "      <td>0.0</td>\n",
              "      <td>3.3</td>\n",
              "      <td>0.0</td>\n",
              "      <td>0.0</td>\n",
              "      <td>0.0</td>\n",
              "      <td>1.0</td>\n",
              "      <td>0.0</td>\n",
              "      <td>6.0</td>\n",
              "      <td>0.0</td>\n",
              "      <td>1.0</td>\n",
              "      <td>1.0</td>\n",
              "      <td>3.0</td>\n",
              "      <td>0</td>\n",
              "    </tr>\n",
              "    <tr>\n",
              "      <th>3</th>\n",
              "      <td>2008.0</td>\n",
              "      <td>10.0</td>\n",
              "      <td>0.0</td>\n",
              "      <td>0.0</td>\n",
              "      <td>0.0</td>\n",
              "      <td>0.0</td>\n",
              "      <td>0.0</td>\n",
              "      <td>0.0</td>\n",
              "      <td>0.0</td>\n",
              "      <td>0.0</td>\n",
              "      <td>0.0</td>\n",
              "      <td>0.0</td>\n",
              "      <td>0.0</td>\n",
              "      <td>0.0</td>\n",
              "      <td>0.0</td>\n",
              "      <td>0.0</td>\n",
              "      <td>0.0</td>\n",
              "      <td>0.0</td>\n",
              "      <td>0.0</td>\n",
              "      <td>0.0</td>\n",
              "      <td>0.0</td>\n",
              "      <td>0.0</td>\n",
              "      <td>0.0</td>\n",
              "      <td>0.0</td>\n",
              "      <td>0.0</td>\n",
              "      <td>0.0</td>\n",
              "      <td>0.0</td>\n",
              "      <td>0.0</td>\n",
              "      <td>0.0</td>\n",
              "      <td>0.0</td>\n",
              "      <td>0.0</td>\n",
              "      <td>0.0</td>\n",
              "      <td>0.0</td>\n",
              "      <td>0.0</td>\n",
              "      <td>0.0</td>\n",
              "      <td>0.0</td>\n",
              "      <td>0.0</td>\n",
              "      <td>0.0</td>\n",
              "      <td>0.0</td>\n",
              "      <td>0.0</td>\n",
              "      <td>0.0</td>\n",
              "      <td>0.0</td>\n",
              "      <td>2.0</td>\n",
              "      <td>0.0</td>\n",
              "      <td>0.0</td>\n",
              "      <td>0.0</td>\n",
              "      <td>0.0</td>\n",
              "      <td>0.0</td>\n",
              "      <td>2.0</td>\n",
              "      <td>0.0</td>\n",
              "      <td>0.0</td>\n",
              "      <td>0.0</td>\n",
              "      <td>1.0</td>\n",
              "      <td>0</td>\n",
              "    </tr>\n",
              "    <tr>\n",
              "      <th>4</th>\n",
              "      <td>2006.0</td>\n",
              "      <td>60.0</td>\n",
              "      <td>0.0</td>\n",
              "      <td>0.0</td>\n",
              "      <td>0.0</td>\n",
              "      <td>0.0</td>\n",
              "      <td>0.0</td>\n",
              "      <td>0.0</td>\n",
              "      <td>0.0</td>\n",
              "      <td>0.0</td>\n",
              "      <td>0.0</td>\n",
              "      <td>0.0</td>\n",
              "      <td>0.0</td>\n",
              "      <td>0.0</td>\n",
              "      <td>0.0</td>\n",
              "      <td>0.0</td>\n",
              "      <td>0.0</td>\n",
              "      <td>0.0</td>\n",
              "      <td>0.0</td>\n",
              "      <td>0.0</td>\n",
              "      <td>0.0</td>\n",
              "      <td>0.0</td>\n",
              "      <td>0.0</td>\n",
              "      <td>0.0</td>\n",
              "      <td>0.0</td>\n",
              "      <td>0.0</td>\n",
              "      <td>0.0</td>\n",
              "      <td>0.0</td>\n",
              "      <td>0.0</td>\n",
              "      <td>0.0</td>\n",
              "      <td>0.0</td>\n",
              "      <td>0.0</td>\n",
              "      <td>0.0</td>\n",
              "      <td>0.0</td>\n",
              "      <td>0.0</td>\n",
              "      <td>0.0</td>\n",
              "      <td>0.0</td>\n",
              "      <td>0.0</td>\n",
              "      <td>0.0</td>\n",
              "      <td>0.0</td>\n",
              "      <td>0.0</td>\n",
              "      <td>0.0</td>\n",
              "      <td>4.3</td>\n",
              "      <td>0.0</td>\n",
              "      <td>0.0</td>\n",
              "      <td>0.0</td>\n",
              "      <td>10.0</td>\n",
              "      <td>1.0</td>\n",
              "      <td>14.0</td>\n",
              "      <td>1.0</td>\n",
              "      <td>3.0</td>\n",
              "      <td>0.0</td>\n",
              "      <td>7.0</td>\n",
              "      <td>0</td>\n",
              "    </tr>\n",
              "    <tr>\n",
              "      <th>...</th>\n",
              "      <td>...</td>\n",
              "      <td>...</td>\n",
              "      <td>...</td>\n",
              "      <td>...</td>\n",
              "      <td>...</td>\n",
              "      <td>...</td>\n",
              "      <td>...</td>\n",
              "      <td>...</td>\n",
              "      <td>...</td>\n",
              "      <td>...</td>\n",
              "      <td>...</td>\n",
              "      <td>...</td>\n",
              "      <td>...</td>\n",
              "      <td>...</td>\n",
              "      <td>...</td>\n",
              "      <td>...</td>\n",
              "      <td>...</td>\n",
              "      <td>...</td>\n",
              "      <td>...</td>\n",
              "      <td>...</td>\n",
              "      <td>...</td>\n",
              "      <td>...</td>\n",
              "      <td>...</td>\n",
              "      <td>...</td>\n",
              "      <td>...</td>\n",
              "      <td>...</td>\n",
              "      <td>...</td>\n",
              "      <td>...</td>\n",
              "      <td>...</td>\n",
              "      <td>...</td>\n",
              "      <td>...</td>\n",
              "      <td>...</td>\n",
              "      <td>...</td>\n",
              "      <td>...</td>\n",
              "      <td>...</td>\n",
              "      <td>...</td>\n",
              "      <td>...</td>\n",
              "      <td>...</td>\n",
              "      <td>...</td>\n",
              "      <td>...</td>\n",
              "      <td>...</td>\n",
              "      <td>...</td>\n",
              "      <td>...</td>\n",
              "      <td>...</td>\n",
              "      <td>...</td>\n",
              "      <td>...</td>\n",
              "      <td>...</td>\n",
              "      <td>...</td>\n",
              "      <td>...</td>\n",
              "      <td>...</td>\n",
              "      <td>...</td>\n",
              "      <td>...</td>\n",
              "      <td>...</td>\n",
              "      <td>...</td>\n",
              "    </tr>\n",
              "    <tr>\n",
              "      <th>2575</th>\n",
              "      <td>2010.0</td>\n",
              "      <td>184.0</td>\n",
              "      <td>0.0</td>\n",
              "      <td>0.0</td>\n",
              "      <td>0.0</td>\n",
              "      <td>0.0</td>\n",
              "      <td>0.0</td>\n",
              "      <td>0.0</td>\n",
              "      <td>0.0</td>\n",
              "      <td>0.0</td>\n",
              "      <td>0.0</td>\n",
              "      <td>0.0</td>\n",
              "      <td>0.0</td>\n",
              "      <td>0.0</td>\n",
              "      <td>0.0</td>\n",
              "      <td>0.0</td>\n",
              "      <td>0.0</td>\n",
              "      <td>0.0</td>\n",
              "      <td>0.0</td>\n",
              "      <td>0.0</td>\n",
              "      <td>0.0</td>\n",
              "      <td>0.0</td>\n",
              "      <td>0.0</td>\n",
              "      <td>0.0</td>\n",
              "      <td>0.0</td>\n",
              "      <td>1.0</td>\n",
              "      <td>0.0</td>\n",
              "      <td>0.0</td>\n",
              "      <td>0.0</td>\n",
              "      <td>0.0</td>\n",
              "      <td>0.0</td>\n",
              "      <td>0.0</td>\n",
              "      <td>0.0</td>\n",
              "      <td>0.0</td>\n",
              "      <td>0.0</td>\n",
              "      <td>0.0</td>\n",
              "      <td>0.0</td>\n",
              "      <td>0.0</td>\n",
              "      <td>1.0</td>\n",
              "      <td>0.0</td>\n",
              "      <td>0.0</td>\n",
              "      <td>0.0</td>\n",
              "      <td>4.0</td>\n",
              "      <td>23.0</td>\n",
              "      <td>55.0</td>\n",
              "      <td>5.0</td>\n",
              "      <td>1163.0</td>\n",
              "      <td>227.0</td>\n",
              "      <td>1705.0</td>\n",
              "      <td>70.0</td>\n",
              "      <td>166.0</td>\n",
              "      <td>14.0</td>\n",
              "      <td>803.0</td>\n",
              "      <td>1</td>\n",
              "    </tr>\n",
              "    <tr>\n",
              "      <th>2576</th>\n",
              "      <td>2009.0</td>\n",
              "      <td>110.0</td>\n",
              "      <td>0.0</td>\n",
              "      <td>0.0</td>\n",
              "      <td>0.0</td>\n",
              "      <td>0.0</td>\n",
              "      <td>0.0</td>\n",
              "      <td>0.0</td>\n",
              "      <td>0.0</td>\n",
              "      <td>0.0</td>\n",
              "      <td>0.0</td>\n",
              "      <td>0.0</td>\n",
              "      <td>0.0</td>\n",
              "      <td>0.0</td>\n",
              "      <td>0.0</td>\n",
              "      <td>0.0</td>\n",
              "      <td>0.0</td>\n",
              "      <td>0.0</td>\n",
              "      <td>0.0</td>\n",
              "      <td>0.0</td>\n",
              "      <td>0.0</td>\n",
              "      <td>0.0</td>\n",
              "      <td>0.0</td>\n",
              "      <td>0.0</td>\n",
              "      <td>0.0</td>\n",
              "      <td>1.0</td>\n",
              "      <td>0.0</td>\n",
              "      <td>0.0</td>\n",
              "      <td>0.0</td>\n",
              "      <td>0.0</td>\n",
              "      <td>0.0</td>\n",
              "      <td>0.0</td>\n",
              "      <td>0.0</td>\n",
              "      <td>0.0</td>\n",
              "      <td>0.0</td>\n",
              "      <td>0.0</td>\n",
              "      <td>0.0</td>\n",
              "      <td>0.0</td>\n",
              "      <td>0.0</td>\n",
              "      <td>0.0</td>\n",
              "      <td>0.0</td>\n",
              "      <td>0.0</td>\n",
              "      <td>3.6</td>\n",
              "      <td>5.0</td>\n",
              "      <td>0.0</td>\n",
              "      <td>1.0</td>\n",
              "      <td>144.0</td>\n",
              "      <td>19.0</td>\n",
              "      <td>87.0</td>\n",
              "      <td>2.0</td>\n",
              "      <td>5.0</td>\n",
              "      <td>1.0</td>\n",
              "      <td>46.0</td>\n",
              "      <td>1</td>\n",
              "    </tr>\n",
              "    <tr>\n",
              "      <th>2577</th>\n",
              "      <td>2008.0</td>\n",
              "      <td>143.0</td>\n",
              "      <td>0.0</td>\n",
              "      <td>0.0</td>\n",
              "      <td>0.0</td>\n",
              "      <td>0.0</td>\n",
              "      <td>0.0</td>\n",
              "      <td>0.0</td>\n",
              "      <td>0.0</td>\n",
              "      <td>0.0</td>\n",
              "      <td>0.0</td>\n",
              "      <td>0.0</td>\n",
              "      <td>0.0</td>\n",
              "      <td>0.0</td>\n",
              "      <td>0.0</td>\n",
              "      <td>0.0</td>\n",
              "      <td>0.0</td>\n",
              "      <td>0.0</td>\n",
              "      <td>0.0</td>\n",
              "      <td>0.0</td>\n",
              "      <td>0.0</td>\n",
              "      <td>0.0</td>\n",
              "      <td>0.0</td>\n",
              "      <td>0.0</td>\n",
              "      <td>1.0</td>\n",
              "      <td>0.0</td>\n",
              "      <td>0.0</td>\n",
              "      <td>0.0</td>\n",
              "      <td>0.0</td>\n",
              "      <td>1.0</td>\n",
              "      <td>0.0</td>\n",
              "      <td>0.0</td>\n",
              "      <td>0.0</td>\n",
              "      <td>0.0</td>\n",
              "      <td>1.0</td>\n",
              "      <td>0.0</td>\n",
              "      <td>0.0</td>\n",
              "      <td>0.0</td>\n",
              "      <td>0.0</td>\n",
              "      <td>0.0</td>\n",
              "      <td>0.0</td>\n",
              "      <td>0.0</td>\n",
              "      <td>3.8</td>\n",
              "      <td>0.0</td>\n",
              "      <td>2.0</td>\n",
              "      <td>0.0</td>\n",
              "      <td>36.0</td>\n",
              "      <td>1.0</td>\n",
              "      <td>30.0</td>\n",
              "      <td>1.0</td>\n",
              "      <td>2.0</td>\n",
              "      <td>1.0</td>\n",
              "      <td>16.0</td>\n",
              "      <td>1</td>\n",
              "    </tr>\n",
              "    <tr>\n",
              "      <th>2578</th>\n",
              "      <td>2008.0</td>\n",
              "      <td>177.0</td>\n",
              "      <td>0.0</td>\n",
              "      <td>0.0</td>\n",
              "      <td>0.0</td>\n",
              "      <td>0.0</td>\n",
              "      <td>0.0</td>\n",
              "      <td>0.0</td>\n",
              "      <td>0.0</td>\n",
              "      <td>0.0</td>\n",
              "      <td>0.0</td>\n",
              "      <td>0.0</td>\n",
              "      <td>0.0</td>\n",
              "      <td>0.0</td>\n",
              "      <td>0.0</td>\n",
              "      <td>0.0</td>\n",
              "      <td>0.0</td>\n",
              "      <td>0.0</td>\n",
              "      <td>0.0</td>\n",
              "      <td>0.0</td>\n",
              "      <td>1.0</td>\n",
              "      <td>0.0</td>\n",
              "      <td>0.0</td>\n",
              "      <td>0.0</td>\n",
              "      <td>1.0</td>\n",
              "      <td>0.0</td>\n",
              "      <td>0.0</td>\n",
              "      <td>0.0</td>\n",
              "      <td>0.0</td>\n",
              "      <td>1.0</td>\n",
              "      <td>0.0</td>\n",
              "      <td>0.0</td>\n",
              "      <td>0.0</td>\n",
              "      <td>0.0</td>\n",
              "      <td>0.0</td>\n",
              "      <td>0.0</td>\n",
              "      <td>0.0</td>\n",
              "      <td>0.0</td>\n",
              "      <td>0.0</td>\n",
              "      <td>0.0</td>\n",
              "      <td>0.0</td>\n",
              "      <td>0.0</td>\n",
              "      <td>4.3</td>\n",
              "      <td>0.0</td>\n",
              "      <td>1.0</td>\n",
              "      <td>0.0</td>\n",
              "      <td>50.0</td>\n",
              "      <td>7.0</td>\n",
              "      <td>41.0</td>\n",
              "      <td>2.0</td>\n",
              "      <td>2.0</td>\n",
              "      <td>4.0</td>\n",
              "      <td>25.0</td>\n",
              "      <td>1</td>\n",
              "    </tr>\n",
              "    <tr>\n",
              "      <th>2579</th>\n",
              "      <td>2003.0</td>\n",
              "      <td>158.0</td>\n",
              "      <td>0.0</td>\n",
              "      <td>0.0</td>\n",
              "      <td>0.0</td>\n",
              "      <td>0.0</td>\n",
              "      <td>0.0</td>\n",
              "      <td>0.0</td>\n",
              "      <td>0.0</td>\n",
              "      <td>0.0</td>\n",
              "      <td>0.0</td>\n",
              "      <td>0.0</td>\n",
              "      <td>0.0</td>\n",
              "      <td>0.0</td>\n",
              "      <td>0.0</td>\n",
              "      <td>0.0</td>\n",
              "      <td>0.0</td>\n",
              "      <td>0.0</td>\n",
              "      <td>0.0</td>\n",
              "      <td>0.0</td>\n",
              "      <td>0.0</td>\n",
              "      <td>0.0</td>\n",
              "      <td>0.0</td>\n",
              "      <td>0.0</td>\n",
              "      <td>0.0</td>\n",
              "      <td>0.0</td>\n",
              "      <td>0.0</td>\n",
              "      <td>0.0</td>\n",
              "      <td>0.0</td>\n",
              "      <td>0.0</td>\n",
              "      <td>0.0</td>\n",
              "      <td>0.0</td>\n",
              "      <td>0.0</td>\n",
              "      <td>0.0</td>\n",
              "      <td>1.0</td>\n",
              "      <td>0.0</td>\n",
              "      <td>0.0</td>\n",
              "      <td>0.0</td>\n",
              "      <td>0.0</td>\n",
              "      <td>0.0</td>\n",
              "      <td>0.0</td>\n",
              "      <td>0.0</td>\n",
              "      <td>4.3</td>\n",
              "      <td>4.0</td>\n",
              "      <td>2.0</td>\n",
              "      <td>4.0</td>\n",
              "      <td>108.0</td>\n",
              "      <td>6.0</td>\n",
              "      <td>167.0</td>\n",
              "      <td>15.0</td>\n",
              "      <td>7.0</td>\n",
              "      <td>5.0</td>\n",
              "      <td>94.0</td>\n",
              "      <td>1</td>\n",
              "    </tr>\n",
              "  </tbody>\n",
              "</table>\n",
              "<p>2580 rows × 54 columns</p>\n",
              "</div>"
            ],
            "text/plain": [
              "         ano  paginas  adulto  artes  ...  desejados  trocam  avaliaram  gender\n",
              "0     2012.0     10.0     0.0    0.0  ...        1.0     0.0        3.0       0\n",
              "1     2008.0     10.0     0.0    0.0  ...        0.0     0.0        1.0       0\n",
              "2     2008.0    128.0     0.0    0.0  ...        1.0     1.0        3.0       0\n",
              "3     2008.0     10.0     0.0    0.0  ...        0.0     0.0        1.0       0\n",
              "4     2006.0     60.0     0.0    0.0  ...        3.0     0.0        7.0       0\n",
              "...      ...      ...     ...    ...  ...        ...     ...        ...     ...\n",
              "2575  2010.0    184.0     0.0    0.0  ...      166.0    14.0      803.0       1\n",
              "2576  2009.0    110.0     0.0    0.0  ...        5.0     1.0       46.0       1\n",
              "2577  2008.0    143.0     0.0    0.0  ...        2.0     1.0       16.0       1\n",
              "2578  2008.0    177.0     0.0    0.0  ...        2.0     4.0       25.0       1\n",
              "2579  2003.0    158.0     0.0    0.0  ...        7.0     5.0       94.0       1\n",
              "\n",
              "[2580 rows x 54 columns]"
            ]
          },
          "metadata": {
            "tags": []
          },
          "execution_count": 47
        }
      ]
    },
    {
      "cell_type": "code",
      "metadata": {
        "id": "-UnXSG2xTN9d"
      },
      "source": [
        "#lista dos gêneros presentes na base\n",
        "generosLiterarios = ['adulto', 'artes', 'autoajuda', 'aventura', 'biografia', 'comunicação', 'contos', 'crime', 'crônica', 'culinária', 'decoração', 'drama', 'economia', 'ensaios', 'entretenimento', 'erótico', 'fantasia', 'ficção', 'filosofia', 'história', 'infantil', 'infantojuvenil', 'brasileira', 'estrangeira', 'matemática', 'memórias', 'música', 'não-ficção', 'poesias', 'policial', 'política', 'psicologia', 'religião', 'romance', 'saúde', 'sexo', 'sociologia', 'suspense', 'terror', 'viagens']"
      ],
      "execution_count": null,
      "outputs": []
    },
    {
      "cell_type": "code",
      "metadata": {
        "id": "4ftRoHtgTO_G"
      },
      "source": [
        "#cria uma série com a quantidade de amostras de cada gênero e seus nomes\n",
        "qtdGeneros = pd.Series(dfBalanceado[generosLiterarios].sum(), index=dfBalanceado[generosLiterarios].sum().index)"
      ],
      "execution_count": null,
      "outputs": []
    },
    {
      "cell_type": "code",
      "metadata": {
        "id": "XURPqrVjUvx0"
      },
      "source": [
        "#Percorre série criada anteriormente para remover as colunas com 0 ocorrências\n",
        "for i, v in qtdGeneros.items():\n",
        "    if v == 0:\n",
        "      dfBalanceado.drop(columns=[i], inplace=True)"
      ],
      "execution_count": null,
      "outputs": []
    },
    {
      "cell_type": "code",
      "metadata": {
        "id": "LMfSTPY7vik7"
      },
      "source": [
        "#guarda base balanceada\n",
        "dfBalanceado.to_csv('./basebalanceada.csv',index=False)"
      ],
      "execution_count": null,
      "outputs": []
    },
    {
      "cell_type": "markdown",
      "metadata": {
        "id": "tcgKkP5DvnMX"
      },
      "source": [
        "## 4.2 - Análise Exploratória com a base balanceada"
      ]
    },
    {
      "cell_type": "code",
      "metadata": {
        "id": "PQPieui2vnZA"
      },
      "source": [
        "dfBalanceado = pd.read_csv('./basebalanceada.csv')"
      ],
      "execution_count": null,
      "outputs": []
    },
    {
      "cell_type": "code",
      "metadata": {
        "colab": {
          "base_uri": "https://localhost:8080/"
        },
        "id": "oSZzU_sAXl9t",
        "outputId": "43be1c1f-7f76-4d7c-9671-0b7384bb30bd"
      },
      "source": [
        "dfBalanceado.columns"
      ],
      "execution_count": null,
      "outputs": [
        {
          "output_type": "execute_result",
          "data": {
            "text/plain": [
              "Index(['ano', 'paginas', 'adulto', 'artes', 'autoajuda', 'aventura',\n",
              "       'biografia', 'comunicação', 'contos', 'crime', 'culinária', 'decoração',\n",
              "       'drama', 'economia', 'ensaios', 'entretenimento', 'erótico', 'fantasia',\n",
              "       'ficção', 'filosofia', 'história', 'infantil', 'infantojuvenil',\n",
              "       'brasileira', 'estrangeira', 'matemática', 'memórias', 'música',\n",
              "       'não-ficção', 'poesias', 'policial', 'política', 'psicologia',\n",
              "       'religião', 'romance', 'saúde', 'sexo', 'sociologia', 'suspense',\n",
              "       'terror', 'viagens', 'ratingcurrent', 'resenhas', 'abandonos',\n",
              "       'relendo', 'querem_ler', 'lendo', 'leram', 'favoritos', 'desejados',\n",
              "       'trocam', 'avaliaram', 'gender'],\n",
              "      dtype='object')"
            ]
          },
          "metadata": {
            "tags": []
          },
          "execution_count": 52
        }
      ]
    },
    {
      "cell_type": "code",
      "metadata": {
        "id": "Esl5y4wkXrPg"
      },
      "source": [
        "#Lista com gêneros presentes na base após balanceamento\n",
        "generosLiterarios = ['adulto', 'artes', 'autoajuda', 'aventura',\n",
        "       'biografia', 'comunicação', 'contos', 'crime', 'culinária', 'decoração',\n",
        "       'drama', 'economia', 'ensaios', 'entretenimento', 'erótico', 'fantasia',\n",
        "       'ficção', 'filosofia', 'história', 'infantil', 'infantojuvenil',\n",
        "       'brasileira', 'estrangeira', 'matemática', 'memórias', 'música',\n",
        "       'não-ficção', 'poesias', 'policial', 'política', 'psicologia',\n",
        "       'religião', 'romance', 'saúde', 'sexo', 'sociologia', 'suspense',\n",
        "       'terror', 'viagens']"
      ],
      "execution_count": null,
      "outputs": []
    },
    {
      "cell_type": "code",
      "metadata": {
        "colab": {
          "base_uri": "https://localhost:8080/",
          "height": 681
        },
        "id": "G8FH6MsnX2Za",
        "outputId": "312faa97-cb6d-4def-8b7c-406cbeb289a1"
      },
      "source": [
        "#Mostra quantidade de amostras em cada gênero\n",
        "pkmn_type_colors = ['#78C850',  # Grass\n",
        "                    '#F08030',  # Fire\n",
        "                    '#6890F0',  # Water\n",
        "                    '#A8B820',  # Bug\n",
        "                    '#A8A878',  # Normal\n",
        "                    '#A040A0',  # Poison\n",
        "                    '#F8D030',  # Electric\n",
        "                    '#E0C068',  # Ground\n",
        "                    '#EE99AC',  # Fairy\n",
        "                    '#C03028',  # Fighting\n",
        "                    '#F85888',  # Psychic\n",
        "                    '#B8A038',  # Rock\n",
        "                    '#705898',  # Ghost\n",
        "                    '#98D8D8',  # Ice\n",
        "                    '#7038F8',  # Dragon\n",
        "                   ]\n",
        "dfBalanceado[generosLiterarios].sum().plot(kind='barh', figsize=(20, 14), color= pkmn_type_colors)"
      ],
      "execution_count": null,
      "outputs": [
        {
          "output_type": "execute_result",
          "data": {
            "text/plain": [
              "<matplotlib.axes._subplots.AxesSubplot at 0x7f3a6a211fd0>"
            ]
          },
          "metadata": {
            "tags": []
          },
          "execution_count": 54
        },
        {
          "output_type": "display_data",
          "data": {
            "image/png": "[encoded data removed]",
            "text/plain": [
              "<Figure size 1440x1008 with 1 Axes>"
            ]
          },
          "metadata": {
            "tags": [],
            "needs_background": "light"
          }
        }
      ]
    },
    {
      "cell_type": "code",
      "metadata": {
        "id": "9Gwz2mOIYO1j"
      },
      "source": [
        "#calcula correlações entre as colunas da base\n",
        "corr = dfBalanceado.corr()"
      ],
      "execution_count": null,
      "outputs": []
    },
    {
      "cell_type": "code",
      "metadata": {
        "colab": {
          "base_uri": "https://localhost:8080/",
          "height": 354
        },
        "id": "_Kzc_CBwYaHU",
        "outputId": "6a0de749-03b0-4afa-b3d5-b42b2b2b6382"
      },
      "source": [
        "#apresenta correlações positivas\n",
        "sns.heatmap(corr)"
      ],
      "execution_count": null,
      "outputs": [
        {
          "output_type": "execute_result",
          "data": {
            "text/plain": [
              "<matplotlib.axes._subplots.AxesSubplot at 0x7f3a6a127f90>"
            ]
          },
          "metadata": {
            "tags": []
          },
          "execution_count": 56
        },
        {
          "output_type": "display_data",
          "data": {
            "image/png": "[encoded data removed]",
            "text/plain": [
              "<Figure size 432x288 with 2 Axes>"
            ]
          },
          "metadata": {
            "tags": [],
            "needs_background": "light"
          }
        }
      ]
    },
    {
      "cell_type": "code",
      "metadata": {
        "colab": {
          "base_uri": "https://localhost:8080/",
          "height": 354
        },
        "id": "aS373tTSYbst",
        "outputId": "55c21fc6-b3d3-496c-b8bd-8139182e9a91"
      },
      "source": [
        "#apresenta correlações positivas e negativas\n",
        "sns.heatmap(corr, vmin = -1)"
      ],
      "execution_count": null,
      "outputs": [
        {
          "output_type": "execute_result",
          "data": {
            "text/plain": [
              "<matplotlib.axes._subplots.AxesSubplot at 0x7f3a6a037ed0>"
            ]
          },
          "metadata": {
            "tags": []
          },
          "execution_count": 57
        },
        {
          "output_type": "display_data",
          "data": {
            "image/png": "[encoded data removed]",
            "text/plain": [
              "<Figure size 432x288 with 2 Axes>"
            ]
          },
          "metadata": {
            "tags": [],
            "needs_background": "light"
          }
        }
      ]
    },
    {
      "cell_type": "code",
      "metadata": {
        "id": "bzKI9_QBYi9E"
      },
      "source": [
        "#lista das colunas com valores quantitivos da base\n",
        "grupoquantitativo = ['gender','resenhas', 'abandonos', 'relendo', 'querem_ler', 'lendo', 'leram', 'favoritos', 'desejados', 'trocam', 'avaliaram']"
      ],
      "execution_count": null,
      "outputs": []
    },
    {
      "cell_type": "code",
      "metadata": {
        "colab": {
          "base_uri": "https://localhost:8080/",
          "height": 333
        },
        "id": "JsjCD88gYpR2",
        "outputId": "b8566753-17bf-43a7-886b-fb32ae14b1d1"
      },
      "source": [
        "#apresenta correlações entre as colunas quantitativas\n",
        "sns.heatmap(dfBalanceado[grupoquantitativo].corr())"
      ],
      "execution_count": null,
      "outputs": [
        {
          "output_type": "execute_result",
          "data": {
            "text/plain": [
              "<matplotlib.axes._subplots.AxesSubplot at 0x7f3a69eba4d0>"
            ]
          },
          "metadata": {
            "tags": []
          },
          "execution_count": 59
        },
        {
          "output_type": "display_data",
          "data": {
            "image/png": "[encoded data removed]",
            "text/plain": [
              "<Figure size 432x288 with 2 Axes>"
            ]
          },
          "metadata": {
            "tags": [],
            "needs_background": "light"
          }
        }
      ]
    },
    {
      "cell_type": "code",
      "metadata": {
        "id": "NTS1se1v_SvF"
      },
      "source": [
        "#Lista com gêneros presentes na base após balanceamento\n",
        "grupoliterario = ['gender'] + generosLiterarios.copy()"
      ],
      "execution_count": null,
      "outputs": []
    },
    {
      "cell_type": "code",
      "metadata": {
        "colab": {
          "base_uri": "https://localhost:8080/",
          "height": 354
        },
        "id": "CyHts5-UYuz8",
        "outputId": "e2d4f6c0-0fd7-4671-b2ac-734a2aba62d6"
      },
      "source": [
        "#apresenta correlações entre os gêneros literários\n",
        "sns.heatmap(dfBalanceado[grupoliterario].corr())"
      ],
      "execution_count": null,
      "outputs": [
        {
          "output_type": "execute_result",
          "data": {
            "text/plain": [
              "<matplotlib.axes._subplots.AxesSubplot at 0x7fab06a6d6d0>"
            ]
          },
          "metadata": {
            "tags": []
          },
          "execution_count": 30
        },
        {
          "output_type": "display_data",
          "data": {
            "image/png": "[encoded data removed]",
            "text/plain": [
              "<Figure size 432x288 with 2 Axes>"
            ]
          },
          "metadata": {
            "tags": [],
            "needs_background": "light"
          }
        }
      ]
    },
    {
      "cell_type": "markdown",
      "metadata": {
        "id": "mDXSi762Y88J"
      },
      "source": [
        "# 5 - Predição\n",
        "\n",
        "Aplicando algoritmos Naive, KNN e SVM\n",
        "\n"
      ]
    },
    {
      "cell_type": "code",
      "metadata": {
        "id": "CG3yinbCYzCe"
      },
      "source": [
        "#Predições com a base balanceada\n",
        "dfBalanceado = pd.read_csv('./basebalanceada.csv')"
      ],
      "execution_count": null,
      "outputs": []
    },
    {
      "cell_type": "code",
      "metadata": {
        "id": "9tF-AkdcY9KM"
      },
      "source": [
        "import numpy as np\n",
        "from sklearn.model_selection import train_test_split\n",
        "from sklearn import metrics\n",
        "\n",
        "#Esta classe possui métodos para:\n",
        "#Executar o holdout (avaliamodelo); \n",
        "#Guardar as métricas de cada execução (armazenametricas) e \n",
        "#Mostrar os valores médios com desvio padrão para as métricas (mostraresultadomedio),\n",
        "#considerando que o holdout será executado n vezes (amostragem aleatória)\n",
        "class runmodel:\n",
        "\n",
        "  def __init__(self, X, y, model, n = 1):\n",
        "    \n",
        "    self.__resultados = {\n",
        "      'precision_0': [],\n",
        "      'recall_0': [],\n",
        "      'f1_0': [],\n",
        "      'support_0': [],\n",
        "      'precision_1': [],\n",
        "      'recall_1': [],\n",
        "      'f1_1': [],\n",
        "      'support_1' : [],\n",
        "      'accuracy' : [],\n",
        "      'precision_wavg' : [],\n",
        "      'recall_wavg' : [],\n",
        "      'f1_wavg' : [],\n",
        "      'support_wavg' : []\n",
        "    }\n",
        "\n",
        "    for i in range(n):\n",
        "      self.__avaliamodelo(X, y, model)\n",
        "\n",
        "  @property\n",
        "  def resultados(self):\n",
        "    return self.__resultados\n",
        "\n",
        "  def __avaliamodelo(self, X, y, model):\n",
        "    #gera as amostras de treino (2/3) e teste (1/3)\n",
        "    X_train, X_test, y_train, y_test = train_test_split(X, y, test_size=0.33)\n",
        "    # Treina o modelo usando os dados de treino\n",
        "    model.fit(X_train,y_train)\n",
        "    # Testa modelo usando os dados de teste\n",
        "    pred = model.predict(X_test)\n",
        "    #armazena resultado\n",
        "    self.__armazenametricas(metrics.classification_report(y_test,pred, output_dict= True))\n",
        "\n",
        "  def __armazenametricas(self, d):\n",
        "    self.__resultados['precision_0'].append(d['0']['precision'])\n",
        "    self.__resultados['recall_0'].append(d['0']['recall'])\n",
        "    self.__resultados['f1_0'].append(d['0']['f1-score'])\n",
        "    self.__resultados['support_0'].append(d['0']['support'])\n",
        "\n",
        "    self.__resultados['precision_1'].append(d['1']['precision'])\n",
        "    self.__resultados['recall_1'].append(d['1']['recall'])\n",
        "    self.__resultados['f1_1'].append(d['1']['f1-score'])\n",
        "    self.__resultados['support_1'].append(d['1']['support'])\n",
        "\n",
        "    self.__resultados['accuracy'].append(d['accuracy'])\n",
        "    \n",
        "    self.__resultados['precision_wavg'].append(d['weighted avg']['precision'])\n",
        "    self.__resultados['recall_wavg'].append(d['weighted avg']['recall'])\n",
        "    self.__resultados['f1_wavg'].append(d['weighted avg']['f1-score'])\n",
        "    self.__resultados['support_wavg'].append(d['weighted avg']['support'])\n",
        "\n",
        "  def mostraresultadomedio(self):\n",
        "    print(f\"\\t\\t precision \\t recall \\t f1-score \\t support\\n\")\n",
        "    print(f\"0 \\t\\t {round(np.mean(self.__resultados['precision_0']), 2)}({round(np.std(self.__resultados['precision_0']),2)}) \\t {round(np.mean(self.__resultados['recall_0']),2)}({round(np.std(self.__resultados['recall_0']),2)}) \\t {round(np.mean(self.__resultados['f1_0']),2)}({round(np.std(self.__resultados['f1_0']),2)}) \\t {round(np.mean(self.__resultados['support_0']),2)}({round(np.std(self.__resultados['support_0']),2)})\\n\")\n",
        "    print(f\"1 \\t\\t {round(np.mean(self.__resultados['precision_1']), 2)}({round(np.std(self.__resultados['precision_1']),2)}) \\t {round(np.mean(self.__resultados['recall_1']),2)}({round(np.std(self.__resultados['recall_1']),2)}) \\t {round(np.mean(self.__resultados['f1_1']),2)}({round(np.std(self.__resultados['f1_1']),2)}) \\t {round(np.mean(self.__resultados['support_1']),2)}({round(np.std(self.__resultados['support_1']),2)})\\n\")\n",
        "    print(f\"accuracy \\t\\t  \\t\\t  \\t {round(np.mean(self.__resultados['accuracy']), 2)}({round(np.std(self.__resultados['accuracy']),2)}) \\t\\t \\n\")\n",
        "    print(f\"weighted avg \\t {round(np.mean(self.__resultados['precision_wavg']), 2)}({round(np.std(self.__resultados['precision_wavg']),2)}) \\t {round(np.mean(self.__resultados['recall_wavg']),2)}({round(np.std(self.__resultados['recall_wavg']),2)}) \\t {round(np.mean(self.__resultados['f1_wavg']),2)}({round(np.std(self.__resultados['f1_wavg']),2)}) \\t {round(np.mean(self.__resultados['support_wavg']),2)}({round(np.std(self.__resultados['support_wavg']),2)})\\n\")"
      ],
      "execution_count": null,
      "outputs": []
    },
    {
      "cell_type": "markdown",
      "metadata": {
        "id": "VqUsPrP7bSSV"
      },
      "source": [
        "## 5.1 - Naive"
      ]
    },
    {
      "cell_type": "markdown",
      "metadata": {
        "id": "20GSJ_fhjxQG"
      },
      "source": [
        "### Executa 30 holdouts para o naive bayes"
      ]
    },
    {
      "cell_type": "code",
      "metadata": {
        "colab": {
          "base_uri": "https://localhost:8080/"
        },
        "id": "_hb5YMKMbOGm",
        "outputId": "86f1d4f6-e784-43ad-f7b5-e5e67ddeaa10"
      },
      "source": [
        "naive = runmodel(dfBalanceado.drop(columns = ['gender']), dfBalanceado['gender'], GaussianNB(), 30)\n",
        "print('\\tMédia e desvio padrão de 30 execuções do Naive Bayes com amostragem aleatória\\n')\n",
        "naive.mostraresultadomedio()"
      ],
      "execution_count": null,
      "outputs": [
        {
          "output_type": "stream",
          "text": [
            "\tMédia e desvio padrão de 30 execuções do Naive Bayes com amostragem aleatória\n",
            "\n",
            "\t\t precision \t recall \t f1-score \t support\n",
            "\n",
            "0 \t\t 0.65(0.02) \t 0.96(0.01) \t 0.78(0.01) \t 425.83(12.98)\n",
            "\n",
            "1 \t\t 0.93(0.02) \t 0.49(0.03) \t 0.64(0.02) \t 426.17(12.98)\n",
            "\n",
            "accuracy \t\t  \t\t  \t 0.72(0.01) \t\t \n",
            "\n",
            "weighted avg \t 0.79(0.01) \t 0.72(0.01) \t 0.71(0.02) \t 852.0(0.0)\n",
            "\n"
          ],
          "name": "stdout"
        }
      ]
    },
    {
      "cell_type": "code",
      "metadata": {
        "id": "EU6AxUOhtXpe"
      },
      "source": [
        "#guarda resultados das 30 execuções do naive\n",
        "pd.DataFrame(naive.resultados).to_csv('./resultadosnaive.csv',index=False)"
      ],
      "execution_count": null,
      "outputs": []
    },
    {
      "cell_type": "markdown",
      "metadata": {
        "id": "_DiwYwtbbTpc"
      },
      "source": [
        "## 5.2 - KNN"
      ]
    },
    {
      "cell_type": "markdown",
      "metadata": {
        "id": "KpJIc_bqjFmh"
      },
      "source": [
        "### Definição dos melhores parâmetros para o KNN usando gridsearchcv\n",
        "\n",
        "\n"
      ]
    },
    {
      "cell_type": "code",
      "metadata": {
        "colab": {
          "base_uri": "https://localhost:8080/"
        },
        "id": "ZsaumglobT4b",
        "outputId": "4b4d2651-a110-4827-96b7-ce0c22982170"
      },
      "source": [
        "#define os parâmetros a serem testados com o KNN\n",
        "param_grid_knn = {'n_neighbors': range(1,40,2), 'weights': ['uniform', 'distance']} \n",
        "#cria o objeto do gridsearchcv\n",
        "gridknn = GridSearchCV(KNeighborsClassifier(), param_grid_knn, scoring = 'f1_weighted', cv = 10, verbose = 1)\n",
        "#executa o gridsearchcv para a base separando X e y\n",
        "gridknn.fit(dfBalanceado.drop(columns = ['gender']), dfBalanceado['gender'])"
      ],
      "execution_count": null,
      "outputs": [
        {
          "output_type": "stream",
          "text": [
            "Fitting 10 folds for each of 40 candidates, totalling 400 fits\n"
          ],
          "name": "stdout"
        },
        {
          "output_type": "stream",
          "text": [
            "[Parallel(n_jobs=1)]: Using backend SequentialBackend with 1 concurrent workers.\n",
            "[Parallel(n_jobs=1)]: Done 400 out of 400 | elapsed:   13.0s finished\n"
          ],
          "name": "stderr"
        },
        {
          "output_type": "execute_result",
          "data": {
            "text/plain": [
              "GridSearchCV(cv=10, error_score=nan,\n",
              "             estimator=KNeighborsClassifier(algorithm='auto', leaf_size=30,\n",
              "                                            metric='minkowski',\n",
              "                                            metric_params=None, n_jobs=None,\n",
              "                                            n_neighbors=5, p=2,\n",
              "                                            weights='uniform'),\n",
              "             iid='deprecated', n_jobs=None,\n",
              "             param_grid={'n_neighbors': range(1, 40, 2),\n",
              "                         'weights': ['uniform', 'distance']},\n",
              "             pre_dispatch='2*n_jobs', refit=True, return_train_score=False,\n",
              "             scoring='f1_weighted', verbose=1)"
            ]
          },
          "metadata": {
            "tags": []
          },
          "execution_count": 25
        }
      ]
    },
    {
      "cell_type": "code",
      "metadata": {
        "colab": {
          "base_uri": "https://localhost:8080/"
        },
        "id": "6YS43yGgb2hD",
        "outputId": "4369da73-9c63-451e-d740-b83dde729b20"
      },
      "source": [
        "gridknn.best_estimator_"
      ],
      "execution_count": null,
      "outputs": [
        {
          "output_type": "execute_result",
          "data": {
            "text/plain": [
              "KNeighborsClassifier(algorithm='auto', leaf_size=30, metric='minkowski',\n",
              "                     metric_params=None, n_jobs=None, n_neighbors=37, p=2,\n",
              "                     weights='uniform')"
            ]
          },
          "metadata": {
            "tags": []
          },
          "execution_count": 26
        }
      ]
    },
    {
      "cell_type": "markdown",
      "metadata": {
        "id": "n31IHN2yjMpP"
      },
      "source": [
        "### Executa 30 holdouts para o KNN com os parâmetros encontrados\n",
        "\n",
        "\n",
        "\n"
      ]
    },
    {
      "cell_type": "code",
      "metadata": {
        "colab": {
          "base_uri": "https://localhost:8080/"
        },
        "id": "HfkngMuwjBTQ",
        "outputId": "3d0fa544-639f-4498-9f49-ab2cad3bc1c2"
      },
      "source": [
        "knn = runmodel(dfBalanceado.drop(['gender'], axis=1), dfBalanceado['gender'], gridknn.best_estimator_, 30)\n",
        "print('\\tMédia e desvio padrão de 30 execuções do KNN com amostragem aleatória\\n')\n",
        "knn.mostraresultadomedio()"
      ],
      "execution_count": null,
      "outputs": [
        {
          "output_type": "stream",
          "text": [
            "\tMédia e desvio padrão de 30 execuções do KNN com amostragem aleatória\n",
            "\n",
            "\t\t precision \t recall \t f1-score \t support\n",
            "\n",
            "0 \t\t 0.7(0.02) \t 0.95(0.01) \t 0.81(0.01) \t 432.4(12.56)\n",
            "\n",
            "1 \t\t 0.93(0.02) \t 0.59(0.02) \t 0.72(0.02) \t 419.6(12.56)\n",
            "\n",
            "accuracy \t\t  \t\t  \t 0.77(0.01) \t\t \n",
            "\n",
            "weighted avg \t 0.81(0.01) \t 0.77(0.01) \t 0.76(0.01) \t 852.0(0.0)\n",
            "\n"
          ],
          "name": "stdout"
        }
      ]
    },
    {
      "cell_type": "code",
      "metadata": {
        "id": "x7N75fNzt9Cm"
      },
      "source": [
        "#guarda resultados das 30 execuções do knn\n",
        "pd.DataFrame(knn.resultados).to_csv('./resultadosknn.csv',index=False)"
      ],
      "execution_count": null,
      "outputs": []
    },
    {
      "cell_type": "markdown",
      "metadata": {
        "id": "Xx14QTyWbUHQ"
      },
      "source": [
        "## 5.3 - SVM"
      ]
    },
    {
      "cell_type": "markdown",
      "metadata": {
        "id": "67TrAkm9jifX"
      },
      "source": [
        "### Definição dos melhores parâmetros para o SVM usando gridsearchcv"
      ]
    },
    {
      "cell_type": "code",
      "metadata": {
        "colab": {
          "base_uri": "https://localhost:8080/"
        },
        "id": "Pq986zhhbUT_",
        "outputId": "a3484f6b-766b-46e0-fa4f-066736ce0e29"
      },
      "source": [
        "#define os parâmetros a serem testados com o SVM\n",
        "param_grid_svm = {'C': [1,10,100], 'gamma': [0.1,0.01,0.001]} \n",
        "#cria o objeto do gridsearchcv\n",
        "gridsvm = GridSearchCV(SVC(), param_grid_svm, scoring = 'f1_weighted', cv = 10, verbose = 1)\n",
        "#executa o gridsearchcv para a base separando X e y\n",
        "gridsvm.fit(dfBalanceado.drop(['gender'], axis=1), dfBalanceado['gender'])"
      ],
      "execution_count": null,
      "outputs": [
        {
          "output_type": "stream",
          "text": [
            "Fitting 10 folds for each of 9 candidates, totalling 90 fits\n"
          ],
          "name": "stdout"
        },
        {
          "output_type": "stream",
          "text": [
            "[Parallel(n_jobs=1)]: Using backend SequentialBackend with 1 concurrent workers.\n",
            "[Parallel(n_jobs=1)]: Done  90 out of  90 | elapsed:  1.0min finished\n"
          ],
          "name": "stderr"
        },
        {
          "output_type": "execute_result",
          "data": {
            "text/plain": [
              "GridSearchCV(cv=10, error_score=nan,\n",
              "             estimator=SVC(C=1.0, break_ties=False, cache_size=200,\n",
              "                           class_weight=None, coef0=0.0,\n",
              "                           decision_function_shape='ovr', degree=3,\n",
              "                           gamma='scale', kernel='rbf', max_iter=-1,\n",
              "                           probability=False, random_state=None, shrinking=True,\n",
              "                           tol=0.001, verbose=False),\n",
              "             iid='deprecated', n_jobs=None,\n",
              "             param_grid={'C': [1, 10, 100], 'gamma': [0.1, 0.01, 0.001]},\n",
              "             pre_dispatch='2*n_jobs', refit=True, return_train_score=False,\n",
              "             scoring='f1_weighted', verbose=1)"
            ]
          },
          "metadata": {
            "tags": []
          },
          "execution_count": 28
        }
      ]
    },
    {
      "cell_type": "code",
      "metadata": {
        "colab": {
          "base_uri": "https://localhost:8080/"
        },
        "id": "kbG76zVVkDft",
        "outputId": "cd444b38-03de-4295-d3f5-adfc88eae63f"
      },
      "source": [
        "gridsvm.best_params_"
      ],
      "execution_count": null,
      "outputs": [
        {
          "output_type": "execute_result",
          "data": {
            "text/plain": [
              "{'C': 1, 'gamma': 0.001}"
            ]
          },
          "metadata": {
            "tags": []
          },
          "execution_count": 29
        }
      ]
    },
    {
      "cell_type": "markdown",
      "metadata": {
        "id": "9dhnYFgtjoDN"
      },
      "source": [
        "### Executa 30 holdouts para o SVM com os parâmetros encontrados"
      ]
    },
    {
      "cell_type": "code",
      "metadata": {
        "colab": {
          "base_uri": "https://localhost:8080/"
        },
        "id": "DUGFyrZWjoPK",
        "outputId": "70cdeddd-6e2b-464a-f512-bc854d33db30"
      },
      "source": [
        "svm = runmodel(dfBalanceado.drop(['gender'], axis=1), dfBalanceado['gender'], grid.best_estimator_, 30)\n",
        "print('\\tMédia e desvio padrão de 30 execuções do SVM com amostragem aleatória\\n')\n",
        "svm.mostraresultadomedio()"
      ],
      "execution_count": null,
      "outputs": [
        {
          "output_type": "stream",
          "text": [
            "\tMédia e desvio padrão de 30 execuções do SVM com amostragem aleatória\n",
            "\n",
            "\t\t precision \t recall \t f1-score \t support\n",
            "\n",
            "0 \t\t 0.71(0.02) \t 0.94(0.01) \t 0.81(0.01) \t 428.07(13.34)\n",
            "\n",
            "1 \t\t 0.91(0.02) \t 0.62(0.02) \t 0.74(0.01) \t 423.93(13.34)\n",
            "\n",
            "accuracy \t\t  \t\t  \t 0.78(0.01) \t\t \n",
            "\n",
            "weighted avg \t 0.81(0.01) \t 0.78(0.01) \t 0.77(0.01) \t 852.0(0.0)\n",
            "\n"
          ],
          "name": "stdout"
        }
      ]
    },
    {
      "cell_type": "code",
      "metadata": {
        "id": "Qcpzqt39uCeN"
      },
      "source": [
        "#guarda resultados das 30 execuções do svm\n",
        "pd.DataFrame(svm.resultados).to_csv('./resultadossvm.csv',index=False)"
      ],
      "execution_count": null,
      "outputs": []
    },
    {
      "cell_type": "markdown",
      "metadata": {
        "id": "38pk7E_XmjuG"
      },
      "source": [
        "## Teste de Hipótese\n",
        "\n",
        "Compara os modelos para identificar se existe diferença estatística entre eles\n",
        "\n",
        "*   Hipótese nula considerada: Os modelos tem desempenho igual.\n",
        "*   Hipótese alternativa considerada: Os modelos tem desempenho diferente.\n",
        "*    Limiar de probabilidade (alfa): 5% (0.05)\n",
        "\n",
        "Caso o p-value seja menor que o limiar, aceitaremos a hipótese alternativa."
      ]
    },
    {
      "cell_type": "markdown",
      "metadata": {
        "id": "0HXb19oenGQ7"
      },
      "source": [
        "### SVM x KNN"
      ]
    },
    {
      "cell_type": "code",
      "metadata": {
        "colab": {
          "base_uri": "https://localhost:8080/"
        },
        "id": "Rw-mW3jCwcC6",
        "outputId": "d1f38bed-6ca8-4d4b-8aab-01b2231f27c6"
      },
      "source": [
        "help(stats.ttest_ind)"
      ],
      "execution_count": null,
      "outputs": [
        {
          "output_type": "stream",
          "text": [
            "Help on function ttest_ind in module scipy.stats.stats:\n",
            "\n",
            "ttest_ind(a, b, axis=0, equal_var=True, nan_policy='propagate')\n",
            "    Calculate the T-test for the means of *two independent* samples of scores.\n",
            "    \n",
            "    This is a two-sided test for the null hypothesis that 2 independent samples\n",
            "    have identical average (expected) values. This test assumes that the\n",
            "    populations have identical variances by default.\n",
            "    \n",
            "    Parameters\n",
            "    ----------\n",
            "    a, b : array_like\n",
            "        The arrays must have the same shape, except in the dimension\n",
            "        corresponding to `axis` (the first, by default).\n",
            "    axis : int or None, optional\n",
            "        Axis along which to compute test. If None, compute over the whole\n",
            "        arrays, `a`, and `b`.\n",
            "    equal_var : bool, optional\n",
            "        If True (default), perform a standard independent 2 sample test\n",
            "        that assumes equal population variances [1]_.\n",
            "        If False, perform Welch's t-test, which does not assume equal\n",
            "        population variance [2]_.\n",
            "    \n",
            "        .. versionadded:: 0.11.0\n",
            "    nan_policy : {'propagate', 'raise', 'omit'}, optional\n",
            "        Defines how to handle when input contains nan.\n",
            "        The following options are available (default is 'propagate'):\n",
            "    \n",
            "          * 'propagate': returns nan\n",
            "          * 'raise': throws an error\n",
            "          * 'omit': performs the calculations ignoring nan values\n",
            "    \n",
            "    \n",
            "    Returns\n",
            "    -------\n",
            "    statistic : float or array\n",
            "        The calculated t-statistic.\n",
            "    pvalue : float or array\n",
            "        The two-tailed p-value.\n",
            "    \n",
            "    Notes\n",
            "    -----\n",
            "    We can use this test, if we observe two independent samples from\n",
            "    the same or different population, e.g. exam scores of boys and\n",
            "    girls or of two ethnic groups. The test measures whether the\n",
            "    average (expected) value differs significantly across samples. If\n",
            "    we observe a large p-value, for example larger than 0.05 or 0.1,\n",
            "    then we cannot reject the null hypothesis of identical average scores.\n",
            "    If the p-value is smaller than the threshold, e.g. 1%, 5% or 10%,\n",
            "    then we reject the null hypothesis of equal averages.\n",
            "    \n",
            "    References\n",
            "    ----------\n",
            "    .. [1] https://en.wikipedia.org/wiki/T-test#Independent_two-sample_t-test\n",
            "    \n",
            "    .. [2] https://en.wikipedia.org/wiki/Welch%27s_t-test\n",
            "    \n",
            "    Examples\n",
            "    --------\n",
            "    >>> from scipy import stats\n",
            "    >>> np.random.seed(12345678)\n",
            "    \n",
            "    Test with sample with identical means:\n",
            "    \n",
            "    >>> rvs1 = stats.norm.rvs(loc=5,scale=10,size=500)\n",
            "    >>> rvs2 = stats.norm.rvs(loc=5,scale=10,size=500)\n",
            "    >>> stats.ttest_ind(rvs1,rvs2)\n",
            "    (0.26833823296239279, 0.78849443369564776)\n",
            "    >>> stats.ttest_ind(rvs1,rvs2, equal_var = False)\n",
            "    (0.26833823296239279, 0.78849452749500748)\n",
            "    \n",
            "    `ttest_ind` underestimates p for unequal variances:\n",
            "    \n",
            "    >>> rvs3 = stats.norm.rvs(loc=5, scale=20, size=500)\n",
            "    >>> stats.ttest_ind(rvs1, rvs3)\n",
            "    (-0.46580283298287162, 0.64145827413436174)\n",
            "    >>> stats.ttest_ind(rvs1, rvs3, equal_var = False)\n",
            "    (-0.46580283298287162, 0.64149646246569292)\n",
            "    \n",
            "    When n1 != n2, the equal variance t-statistic is no longer equal to the\n",
            "    unequal variance t-statistic:\n",
            "    \n",
            "    >>> rvs4 = stats.norm.rvs(loc=5, scale=20, size=100)\n",
            "    >>> stats.ttest_ind(rvs1, rvs4)\n",
            "    (-0.99882539442782481, 0.3182832709103896)\n",
            "    >>> stats.ttest_ind(rvs1, rvs4, equal_var = False)\n",
            "    (-0.69712570584654099, 0.48716927725402048)\n",
            "    \n",
            "    T-test with different means, variance, and n:\n",
            "    \n",
            "    >>> rvs5 = stats.norm.rvs(loc=8, scale=20, size=100)\n",
            "    >>> stats.ttest_ind(rvs1, rvs5)\n",
            "    (-1.4679669854490653, 0.14263895620529152)\n",
            "    >>> stats.ttest_ind(rvs1, rvs5, equal_var = False)\n",
            "    (-0.94365973617132992, 0.34744170334794122)\n",
            "\n"
          ],
          "name": "stdout"
        }
      ]
    },
    {
      "cell_type": "code",
      "metadata": {
        "id": "VoL53WL5mj-7"
      },
      "source": [
        "t_svmknn, p_svmknn = stats.ttest_ind(svm.resultados['accuracy'], knn.resultados['accuracy'])"
      ],
      "execution_count": null,
      "outputs": []
    },
    {
      "cell_type": "code",
      "metadata": {
        "colab": {
          "base_uri": "https://localhost:8080/"
        },
        "id": "ix4MqvnSsHwl",
        "outputId": "45551769-6f5c-488d-e721-62a27d918ae2"
      },
      "source": [
        "print(f't value SVM x KNN: {t_svmknn} \\t p value SVM x KNN: {p_svmknn}')"
      ],
      "execution_count": null,
      "outputs": [
        {
          "output_type": "stream",
          "text": [
            "t value SVM x KNN: 2.5799327123267934 \t p value SVM x KNN: 0.01243719600686404\n"
          ],
          "name": "stdout"
        }
      ]
    },
    {
      "cell_type": "code",
      "metadata": {
        "colab": {
          "base_uri": "https://localhost:8080/"
        },
        "id": "rCrFDeytv-R2",
        "outputId": "11116f13-8c5a-47ec-9fef-0c483b9a2092"
      },
      "source": [
        "if p_svmknn < 0.05:\n",
        "  print('Hipótese nula rejeitada. O desempenho dos modelos é estatisticamente diferente')"
      ],
      "execution_count": null,
      "outputs": [
        {
          "output_type": "stream",
          "text": [
            "Hipótese nula rejeitada. O desempenho dos modelos é estatisticamente diferente\n"
          ],
          "name": "stdout"
        }
      ]
    },
    {
      "cell_type": "markdown",
      "metadata": {
        "id": "XXm_VTHxnMc_"
      },
      "source": [
        "### SVM x Naive"
      ]
    },
    {
      "cell_type": "code",
      "metadata": {
        "id": "EBhEXJ-UnMq7"
      },
      "source": [
        "t_svmnaive, p_svmnaive = stats.ttest_ind(svm.resultados['accuracy'], naive.resultados['accuracy'])"
      ],
      "execution_count": null,
      "outputs": []
    },
    {
      "cell_type": "code",
      "metadata": {
        "colab": {
          "base_uri": "https://localhost:8080/"
        },
        "id": "UZceHItdse3F",
        "outputId": "a6730a98-01be-4cff-93c5-68812f9d92c7"
      },
      "source": [
        "print(f't value SVM x Naive: {t_svmnaive} \\t p value SVM x Naive: {p_svmnaive}')"
      ],
      "execution_count": null,
      "outputs": [
        {
          "output_type": "stream",
          "text": [
            "t value SVM x Naive: 17.03140088681362 \t p value SVM x Naive: 3.0734846871173005e-24\n"
          ],
          "name": "stdout"
        }
      ]
    },
    {
      "cell_type": "code",
      "metadata": {
        "colab": {
          "base_uri": "https://localhost:8080/"
        },
        "id": "WctxBS5IwQuK",
        "outputId": "c76e2b69-36b4-44ce-e83c-e80477276704"
      },
      "source": [
        "if p_svmnaive < 0.05:\n",
        "  print('Hipótese nula rejeitada. O desempenho dos modelos é estatisticamente diferente')"
      ],
      "execution_count": null,
      "outputs": [
        {
          "output_type": "stream",
          "text": [
            "Hipótese nula rejeitada. O desempenho dos modelos é estatisticamente diferente\n"
          ],
          "name": "stdout"
        }
      ]
    },
    {
      "cell_type": "markdown",
      "metadata": {
        "id": "TV5DVLfxnM6t"
      },
      "source": [
        "### KNN x Naive"
      ]
    },
    {
      "cell_type": "code",
      "metadata": {
        "id": "Np4Q2K_YnNEx"
      },
      "source": [
        "t_knnnaive, p_knnnaive = stats.ttest_ind(knn.resultados['accuracy'], naive.resultados['accuracy'])"
      ],
      "execution_count": null,
      "outputs": []
    },
    {
      "cell_type": "code",
      "metadata": {
        "colab": {
          "base_uri": "https://localhost:8080/"
        },
        "id": "h01x_4p3swyx",
        "outputId": "96709fe1-ec75-4c8e-dc8b-37acc42a0fd8"
      },
      "source": [
        "print(f't value KNN x Naive: {t_knnnaive} \\t p value KNN x Naive: {p_knnnaive}')"
      ],
      "execution_count": null,
      "outputs": [
        {
          "output_type": "stream",
          "text": [
            "t value KNN x Naive: 13.855125123914018 \t p value KNN x Naive: 4.7256584535864414e-20\n"
          ],
          "name": "stdout"
        }
      ]
    },
    {
      "cell_type": "code",
      "metadata": {
        "colab": {
          "base_uri": "https://localhost:8080/"
        },
        "id": "IUNHOduHwUOu",
        "outputId": "f40a8ffa-6870-4037-b3b0-0dfcbaa3c886"
      },
      "source": [
        "if p_knnnaive < 0.05:\n",
        "  print('Hipótese nula rejeitada. O desempenho dos modelos é estatisticamente diferente')"
      ],
      "execution_count": null,
      "outputs": [
        {
          "output_type": "stream",
          "text": [
            "Hipótese nula rejeitada. O desempenho dos modelos é estatisticamente diferente\n"
          ],
          "name": "stdout"
        }
      ]
    }
  ]
}